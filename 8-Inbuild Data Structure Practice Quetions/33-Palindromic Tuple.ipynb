{
 "cells": [
  {
   "cell_type": "markdown",
   "id": "04af0408",
   "metadata": {},
   "source": [
    "**Check if Tuple is Palindromic**\n",
    "\n",
    "Design a Python function named `is_palindromic_tuple` to check if a tuple is palindromic, meaning it reads the same forwards and backwards.\n",
    "\n",
    "**Parameters:**\n",
    "- `tup` (tuple): The input tuple that you need to check for palindromic property.\n",
    "\n",
    "**Returns:**\n",
    "- `True` if the tuple is palindromic, `False` otherwise.\n",
    "\n",
    "**Example:**\n",
    "1. **Input:** `(1, 2, 3, 2, 1)`<br>\n",
    "**Output:** `True`\n",
    "\n",
    "2. **Input:** `('a', 'b', 'c', 'b', 'a')`<br>\n",
    "**Output:** `True`\n",
    "\n",
    "3. **Input:** `(1, 2, 3, 4, 5)`<br>\n",
    "**Output:** `False`\n",
    "\n",
    "4. **Input:** `('x', 'y', 'z', 'x')`<br>\n",
    "**Output:** `False`\n",
    "\n",
    "5. **Input:** `('a',)`<br>\n",
    "**Output:** `True`"
   ]
  },
  {
   "cell_type": "code",
   "execution_count": 1,
   "id": "5224460e",
   "metadata": {},
   "outputs": [],
   "source": [
    "def is_palindromic_tuple(tup):\n",
    "    # Your code goes here\n",
    "    start, end = 0, len(tup) - 1\n",
    "\n",
    "    while start <= end:\n",
    "        if tup[start] != tup[end]:\n",
    "            return False\n",
    "        \n",
    "        start += 1\n",
    "        end -= 1\n",
    "    \n",
    "    return True"
   ]
  },
  {
   "cell_type": "code",
   "execution_count": 2,
   "id": "24f09960",
   "metadata": {},
   "outputs": [
    {
     "data": {
      "text/plain": [
       "True"
      ]
     },
     "execution_count": 2,
     "metadata": {},
     "output_type": "execute_result"
    }
   ],
   "source": [
    "tup = (1, 2, 3, 2, 1)\n",
    "is_palindromic_tuple(tup)"
   ]
  },
  {
   "cell_type": "code",
   "execution_count": null,
   "id": "d0cb4de6",
   "metadata": {},
   "outputs": [],
   "source": []
  }
 ],
 "metadata": {
  "kernelspec": {
   "display_name": "Python 3",
   "language": "python",
   "name": "python3"
  },
  "language_info": {
   "codemirror_mode": {
    "name": "ipython",
    "version": 3
   },
   "file_extension": ".py",
   "mimetype": "text/x-python",
   "name": "python",
   "nbconvert_exporter": "python",
   "pygments_lexer": "ipython3",
   "version": "3.12.0"
  }
 },
 "nbformat": 4,
 "nbformat_minor": 5
}
