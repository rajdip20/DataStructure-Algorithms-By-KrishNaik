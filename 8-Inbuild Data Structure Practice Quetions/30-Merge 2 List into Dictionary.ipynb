{
 "cells": [
  {
   "cell_type": "markdown",
   "id": "2713df28",
   "metadata": {},
   "source": [
    "**Merge Lists to Dictionary**\n",
    "\n",
    "Design a Python function named `merge_lists_to_dictionary` to merge two lists into a dictionary where elements from the first list act as keys and elements from the second list act as values.\n",
    "\n",
    "**Parameters:**\n",
    "- `keys` (List): A list of keys.\n",
    "- `values` (List): A list of values.\n",
    "\n",
    "**Returns:**\n",
    "- A dictionary containing merged key-value pairs.\n",
    "\n",
    "**Example:**\n",
    "1. **Input:** `keys = ['a', 'b', 'c']`, `values = [1, 2, 3]`<br>\n",
    "**Output:** `{'a': 1, 'b': 2, 'c': 3}`\n",
    "\n",
    "2. **Input:** `keys = ['x', 'y', 'z']`, `values = [10, 20, 30]`<br>\n",
    "**Output:** `{'x': 10, 'y': 20, 'z': 30}`"
   ]
  },
  {
   "cell_type": "code",
   "execution_count": 1,
   "id": "4669dae8",
   "metadata": {},
   "outputs": [],
   "source": [
    "def merge_lists_to_dictionary(keys, values):\n",
    "    # Your code goes here\n",
    "    result = {}\n",
    "\n",
    "    if len(keys) != len(values):\n",
    "        return False\n",
    "\n",
    "    for i in range(len(keys)):\n",
    "        result[keys[i]] = values[i]\n",
    "\n",
    "    return result"
   ]
  },
  {
   "cell_type": "code",
   "execution_count": 2,
   "id": "c8a680d0",
   "metadata": {},
   "outputs": [
    {
     "data": {
      "text/plain": [
       "{'a': 1, 'b': 2, 'c': 3}"
      ]
     },
     "execution_count": 2,
     "metadata": {},
     "output_type": "execute_result"
    }
   ],
   "source": [
    "keys = ['a', 'b', 'c']\n",
    "values = [1, 2, 3]\n",
    "\n",
    "merge_lists_to_dictionary(keys, values)"
   ]
  },
  {
   "cell_type": "code",
   "execution_count": null,
   "id": "df7051cd",
   "metadata": {},
   "outputs": [],
   "source": []
  }
 ],
 "metadata": {
  "kernelspec": {
   "display_name": "Python 3",
   "language": "python",
   "name": "python3"
  },
  "language_info": {
   "codemirror_mode": {
    "name": "ipython",
    "version": 3
   },
   "file_extension": ".py",
   "mimetype": "text/x-python",
   "name": "python",
   "nbconvert_exporter": "python",
   "pygments_lexer": "ipython3",
   "version": "3.12.0"
  }
 },
 "nbformat": 4,
 "nbformat_minor": 5
}
