{
 "cells": [
  {
   "cell_type": "markdown",
   "id": "e10315fc",
   "metadata": {},
   "source": [
    "**Merge Three Dictionaries**\n",
    "\n",
    "Design a Python function named `merge_three_dictionaries` to merge exactly **three** dictionaries into one.\n",
    "\n",
    "**Parameters:**\n",
    "- `dict1` (Dictionary): The first dictionary to be merged.\n",
    "- `dict2` (Dictionary): The second dictionary to be merged.\n",
    "- `dict3` (Dictionary): The third dictionary to be merged.\n",
    "\n",
    "**Returns:**\n",
    "- A single dictionary containing all key-value pairs from the three input dictionaries.\n",
    "\n",
    "**Example:**\n",
    "1. **Input:** `({'a': 1, 'b': 2}, {'c': 3, 'd': 4}, {'e': 5, 'f': 6})`<br>\n",
    "**Output:** `{'a': 1, 'b': 2, 'c': 3, 'd': 4, 'e': 5, 'f': 6}`\n",
    "\n",
    "2. **Input:** `({'x': 10, 'y': 20}, {'z': 30}, {'a': 40, 'b': 50})`<br>\n",
    "**Output:** `{'x': 10, 'y': 20, 'z': 30, 'a': 40, 'b': 50}`"
   ]
  },
  {
   "cell_type": "code",
   "execution_count": 1,
   "id": "f4a88759",
   "metadata": {},
   "outputs": [],
   "source": [
    "def merge_three_dictionaries(dict1, dict2, dict3):\n",
    "    # Your code goes here\n",
    "    result = {}\n",
    "\n",
    "    for key in dict1.keys():\n",
    "        result[key] = dict1[key]\n",
    "\n",
    "    for key in dict2.keys():\n",
    "        result[key] = dict2[key]\n",
    "    \n",
    "    for key in dict3.keys():\n",
    "        result[key] = dict3[key]\n",
    "\n",
    "    return result"
   ]
  },
  {
   "cell_type": "code",
   "execution_count": 2,
   "id": "9394978a",
   "metadata": {},
   "outputs": [
    {
     "data": {
      "text/plain": [
       "{'a': 1, 'b': 2, 'c': 3, 'd': 4, 'e': 5, 'f': 6}"
      ]
     },
     "execution_count": 2,
     "metadata": {},
     "output_type": "execute_result"
    }
   ],
   "source": [
    "dict1 = {'a': 1, 'b': 2}\n",
    "dict2 = {'c': 3, 'd': 4}\n",
    "dict3 = {'e': 5, 'f': 6}\n",
    "\n",
    "merge_three_dictionaries(dict1, dict2, dict3)"
   ]
  },
  {
   "cell_type": "code",
   "execution_count": null,
   "id": "8f0d271b",
   "metadata": {},
   "outputs": [],
   "source": []
  }
 ],
 "metadata": {
  "kernelspec": {
   "display_name": "Python 3",
   "language": "python",
   "name": "python3"
  },
  "language_info": {
   "codemirror_mode": {
    "name": "ipython",
    "version": 3
   },
   "file_extension": ".py",
   "mimetype": "text/x-python",
   "name": "python",
   "nbconvert_exporter": "python",
   "pygments_lexer": "ipython3",
   "version": "3.12.0"
  }
 },
 "nbformat": 4,
 "nbformat_minor": 5
}
