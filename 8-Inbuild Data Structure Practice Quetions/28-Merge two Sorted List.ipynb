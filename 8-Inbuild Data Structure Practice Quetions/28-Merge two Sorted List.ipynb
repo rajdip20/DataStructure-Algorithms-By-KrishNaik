{
 "cells": [
  {
   "cell_type": "markdown",
   "id": "721dd437",
   "metadata": {},
   "source": [
    "**Merge Two Sorted Lists**\n",
    "\n",
    "You are given two sorted lists of integers. Write a Python function to merge these two sorted lists into one sorted list. The resulting list should also be in non-decreasing order.\n",
    "\n",
    "**Parameters:**\n",
    "- `list1` (List of integers): The first sorted list.\n",
    "- `list2` (List of integers): The second sorted list.\n",
    "\n",
    "**Returns:**\n",
    "- A single list of integers, containing all elements from `list1` and `list2`, sorted in non-decreasing order.\n",
    "\n",
    "**Example:**\n",
    "1. **Input:** `list1 = [1, 3, 5]`, `list2 = [2, 4, 6]`<br>\n",
    "**Output:** `[1, 2, 3, 4, 5, 6]`\n",
    "\n",
    "2. **Input:** `list1 = [1, 4, 7]`, `list2 = [2, 3, 5, 8]`<br>\n",
    "**Output:** `[1, 2, 3, 4, 5, 7, 8]`"
   ]
  },
  {
   "cell_type": "code",
   "execution_count": 1,
   "id": "92e0a2f6",
   "metadata": {},
   "outputs": [],
   "source": [
    "def merge_two_sorted_lists(list1: list, list2):\n",
    "    # Your code goes here\n",
    "    i, j = 0, 0\n",
    "    result = []\n",
    "\n",
    "    while i < len(list1) and j < len(list2):\n",
    "        if list1[i] < list2[j]:\n",
    "            result.append(list1[i])\n",
    "            i += 1\n",
    "        else:\n",
    "            result.append(list2[j])\n",
    "            j += 1\n",
    "\n",
    "    while i < len(list1):\n",
    "        result.append(list1[i])\n",
    "        i += 1\n",
    "\n",
    "    while j < len(list2):\n",
    "        result.append(list2[j])\n",
    "        j += 1\n",
    "\n",
    "    return result"
   ]
  },
  {
   "cell_type": "code",
   "execution_count": 2,
   "id": "d9a8212f",
   "metadata": {},
   "outputs": [
    {
     "data": {
      "text/plain": [
       "[1, 2, 3, 4, 5, 6]"
      ]
     },
     "execution_count": 2,
     "metadata": {},
     "output_type": "execute_result"
    }
   ],
   "source": [
    "lst1 = [1, 3, 5]\n",
    "lst2 = [2, 4, 6]\n",
    "\n",
    "merge_two_sorted_lists(lst1, lst2)"
   ]
  },
  {
   "cell_type": "code",
   "execution_count": null,
   "id": "83b0da21",
   "metadata": {},
   "outputs": [],
   "source": []
  }
 ],
 "metadata": {
  "kernelspec": {
   "display_name": "Python 3",
   "language": "python",
   "name": "python3"
  },
  "language_info": {
   "codemirror_mode": {
    "name": "ipython",
    "version": 3
   },
   "file_extension": ".py",
   "mimetype": "text/x-python",
   "name": "python",
   "nbconvert_exporter": "python",
   "pygments_lexer": "ipython3",
   "version": "3.12.0"
  }
 },
 "nbformat": 4,
 "nbformat_minor": 5
}
