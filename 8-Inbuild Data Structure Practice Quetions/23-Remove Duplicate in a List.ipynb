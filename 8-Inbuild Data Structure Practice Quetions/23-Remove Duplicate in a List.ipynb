{
 "cells": [
  {
   "cell_type": "markdown",
   "id": "3b31e26e",
   "metadata": {},
   "source": [
    "**Remove Duplicates from a List**\n",
    "\n",
    "You are given a list of integers. Write a Python program that removes any duplicate elements from the list and returns a new list with only unique elements. The order of elements in the list should be maintained.\n",
    "\n",
    "\n",
    "**Parameters:**\n",
    "- `lst` (List of integers): The list of integers from which duplicates should be removed.\n",
    "\n",
    "\n",
    "**Returns:**\n",
    "- A list of integers where all duplicates have been removed, preserving the original order.\n",
    "\n",
    "\n",
    "**Example:**\n",
    "1. **Input:** `lst = [1, 2, 2, 3, 4, 4, 5]`<br>\n",
    "**Output:** `[1, 2, 3, 4, 5]`\n",
    "\n",
    "2. **Input:** `lst = [4, 5, 5, 4, 6, 7]`<br>\n",
    "**Output:** `[4, 5, 6, 7]`"
   ]
  },
  {
   "cell_type": "code",
   "execution_count": 1,
   "id": "3d6955cf",
   "metadata": {},
   "outputs": [],
   "source": [
    "def remove_duplicates(lst):\n",
    "    # Your code goes here\n",
    "    lst2 = []\n",
    "    \n",
    "    for i in range(len(lst)):\n",
    "        if lst[i] not in lst2:\n",
    "            lst2.append(lst[i])\n",
    "\n",
    "    return lst2"
   ]
  },
  {
   "cell_type": "code",
   "execution_count": 2,
   "id": "266de090",
   "metadata": {},
   "outputs": [
    {
     "data": {
      "text/plain": [
       "[4, 5, 6, 7]"
      ]
     },
     "execution_count": 2,
     "metadata": {},
     "output_type": "execute_result"
    }
   ],
   "source": [
    "lst = [4, 5, 5, 4, 6, 7]\n",
    "remove_duplicates(lst)"
   ]
  },
  {
   "cell_type": "code",
   "execution_count": null,
   "id": "fa00b521",
   "metadata": {},
   "outputs": [],
   "source": []
  }
 ],
 "metadata": {
  "kernelspec": {
   "display_name": "Python 3",
   "language": "python",
   "name": "python3"
  },
  "language_info": {
   "codemirror_mode": {
    "name": "ipython",
    "version": 3
   },
   "file_extension": ".py",
   "mimetype": "text/x-python",
   "name": "python",
   "nbconvert_exporter": "python",
   "pygments_lexer": "ipython3",
   "version": "3.12.0"
  }
 },
 "nbformat": 4,
 "nbformat_minor": 5
}
