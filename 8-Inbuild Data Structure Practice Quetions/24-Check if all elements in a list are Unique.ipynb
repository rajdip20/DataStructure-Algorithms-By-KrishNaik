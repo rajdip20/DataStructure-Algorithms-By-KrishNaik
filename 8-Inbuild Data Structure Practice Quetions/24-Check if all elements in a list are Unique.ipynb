{
 "cells": [
  {
   "cell_type": "markdown",
   "id": "45753e42",
   "metadata": {},
   "source": [
    "**Check if All Elements in a List are Unique**\n",
    "\n",
    "You are given a list of integers. Write a Python program that checks if all elements in the list are unique. If all elements are unique, return `True`; otherwise, return `False`.\n",
    "\n",
    "**Parameters:**\n",
    "- `lst` (List of integers): The list of integers to check for uniqueness.\n",
    "\n",
    "**Returns:**\n",
    "- A boolean value `True` if all elements in the list are unique, `False` otherwise.\n",
    "\n",
    "**Example:**\n",
    "1. **Input:** `lst = [1, 2, 3, 4, 5]`<br>\n",
    "**Output:** `True`\n",
    "\n",
    "2. **Input:** `lst = [1, 2, 3, 3, 4, 5]`<br>\n",
    "**Output:** `False`"
   ]
  },
  {
   "cell_type": "code",
   "execution_count": 1,
   "id": "f46d8501",
   "metadata": {},
   "outputs": [],
   "source": [
    "def check_unique(lst):\n",
    "    # Your code goes here\n",
    "    lst2 = []\n",
    "    \n",
    "    for i in range(len(lst)):\n",
    "        if lst[i] not in lst2:\n",
    "            lst2.append(lst[i])\n",
    "        else:\n",
    "            return False\n",
    "    \n",
    "    return True"
   ]
  },
  {
   "cell_type": "code",
   "execution_count": 2,
   "id": "63ac93e3",
   "metadata": {},
   "outputs": [
    {
     "name": "stdout",
     "output_type": "stream",
     "text": [
      "True\n",
      "False\n"
     ]
    }
   ],
   "source": [
    "lst1 = [1, 2, 3, 4, 5]\n",
    "lst2 = [1, 2, 3, 3, 4, 5]\n",
    "\n",
    "print(check_unique(lst1))\n",
    "print(check_unique(lst2))"
   ]
  },
  {
   "cell_type": "code",
   "execution_count": null,
   "id": "1d456454",
   "metadata": {},
   "outputs": [],
   "source": []
  }
 ],
 "metadata": {
  "kernelspec": {
   "display_name": "Python 3",
   "language": "python",
   "name": "python3"
  },
  "language_info": {
   "codemirror_mode": {
    "name": "ipython",
    "version": 3
   },
   "file_extension": ".py",
   "mimetype": "text/x-python",
   "name": "python",
   "nbconvert_exporter": "python",
   "pygments_lexer": "ipython3",
   "version": "3.12.0"
  }
 },
 "nbformat": 4,
 "nbformat_minor": 5
}
