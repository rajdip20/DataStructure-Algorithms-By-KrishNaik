{
 "cells": [
  {
   "cell_type": "markdown",
   "id": "ad27f0d8",
   "metadata": {},
   "source": [
    "**Count Word Frequency**\n",
    "\n",
    "Design a Python function named `count_word_frequency` to count the frequency of words in a sentence and store the counts in a dictionary.\n",
    "\n",
    "**Parameters:**\n",
    "- `sentence` (str): The input sentence where you need to count the frequency of each word.\n",
    "\n",
    "**Returns:**\n",
    "- A dictionary where the keys are words from the sentence and the values are their corresponding frequencies.\n",
    "\n",
    "**Example:**\n",
    "1. **Input:** `\"hello world hello\"`<br>\n",
    "**Output:** `{'hello': 2, 'world': 1}`\n",
    "\n",
    "2. **Input:** `\"the quick brown fox jumps over the lazy dog\"`<br>\n",
    "**Output:** `{'the': 2, 'quick': 1, 'brown': 1, 'fox': 1, 'jumps': 1, 'over': 1, 'lazy': 1, 'dog': 1}`"
   ]
  },
  {
   "cell_type": "code",
   "execution_count": 1,
   "id": "23c3ca41",
   "metadata": {},
   "outputs": [],
   "source": [
    "def count_word_frequency(sentence: str):\n",
    "    # Your code goes here\n",
    "    str_list = sentence.split(\" \")\n",
    "    result = {}\n",
    "\n",
    "    if sentence == \"\":\n",
    "        return result\n",
    "    \n",
    "    for i in range(len(str_list)):\n",
    "        if str_list[i] not in result:\n",
    "            result[str_list[i]] = 1\n",
    "\n",
    "        else:\n",
    "            result[str_list[i]] += 1\n",
    "\n",
    "    return result"
   ]
  },
  {
   "cell_type": "code",
   "execution_count": 2,
   "id": "92f1195f",
   "metadata": {},
   "outputs": [
    {
     "data": {
      "text/plain": [
       "{'hello': 2, 'world': 1}"
      ]
     },
     "execution_count": 2,
     "metadata": {},
     "output_type": "execute_result"
    }
   ],
   "source": [
    "sentence = \"hello world hello\"\n",
    "count_word_frequency(sentence)"
   ]
  },
  {
   "cell_type": "code",
   "execution_count": null,
   "id": "4e10c415",
   "metadata": {},
   "outputs": [],
   "source": []
  }
 ],
 "metadata": {
  "kernelspec": {
   "display_name": "Python 3",
   "language": "python",
   "name": "python3"
  },
  "language_info": {
   "codemirror_mode": {
    "name": "ipython",
    "version": 3
   },
   "file_extension": ".py",
   "mimetype": "text/x-python",
   "name": "python",
   "nbconvert_exporter": "python",
   "pygments_lexer": "ipython3",
   "version": "3.12.0"
  }
 },
 "nbformat": 4,
 "nbformat_minor": 5
}
