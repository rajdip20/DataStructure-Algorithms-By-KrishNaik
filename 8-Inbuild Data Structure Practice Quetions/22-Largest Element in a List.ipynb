{
 "cells": [
  {
   "cell_type": "markdown",
   "id": "32f84dab",
   "metadata": {},
   "source": [
    "**Find the Largest Element in a List**\n",
    "\n",
    "Write a Python function that finds and returns the largest element in a given list of integers.\n",
    "\n",
    "**Parameters:**\n",
    "- `numbers` (List of integers): The input list containing integers.\n",
    "\n",
    "**Returns:**\n",
    "- An integer representing the largest element in the input list.\n",
    "\n",
    "\n",
    "**Example:**<br>\n",
    "1. **Input:** `numbers = [3, 8, 2, 10, 5]`<br>\n",
    "**Output:** `10`\n",
    "\n",
    "2. **Input:** `numbers = [-5, -10, -2, -1, -7]`<br>\n",
    "**Output:** `-1`"
   ]
  },
  {
   "cell_type": "code",
   "execution_count": 1,
   "id": "ab0caed9",
   "metadata": {},
   "outputs": [],
   "source": [
    "def find_largest(numbers):\n",
    "    # Your code goes here\n",
    "    result = numbers[0]\n",
    "    \n",
    "    for num in numbers:\n",
    "        if num > result:\n",
    "            result = num\n",
    "\n",
    "    return result"
   ]
  },
  {
   "cell_type": "code",
   "execution_count": 2,
   "id": "c5847adc",
   "metadata": {},
   "outputs": [
    {
     "data": {
      "text/plain": [
       "10"
      ]
     },
     "execution_count": 2,
     "metadata": {},
     "output_type": "execute_result"
    }
   ],
   "source": [
    "numbers = [3, 8, 2, 10, 5]\n",
    "find_largest(numbers)"
   ]
  },
  {
   "cell_type": "code",
   "execution_count": null,
   "id": "58aed866",
   "metadata": {},
   "outputs": [],
   "source": []
  }
 ],
 "metadata": {
  "kernelspec": {
   "display_name": "Python 3",
   "language": "python",
   "name": "python3"
  },
  "language_info": {
   "codemirror_mode": {
    "name": "ipython",
    "version": 3
   },
   "file_extension": ".py",
   "mimetype": "text/x-python",
   "name": "python",
   "nbconvert_exporter": "python",
   "pygments_lexer": "ipython3",
   "version": "3.12.0"
  }
 },
 "nbformat": 4,
 "nbformat_minor": 5
}
