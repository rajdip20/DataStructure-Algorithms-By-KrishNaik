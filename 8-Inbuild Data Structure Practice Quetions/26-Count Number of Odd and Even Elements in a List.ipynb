{
 "cells": [
  {
   "cell_type": "markdown",
   "id": "c1bc4340",
   "metadata": {},
   "source": [
    "**Count Even and Odd Numbers in a List**\n",
    "\n",
    "You are given a list of integers. Write a Python program that counts and returns the number of even and odd numbers in the list.\n",
    "\n",
    "**Parameters:**\n",
    "- `lst` (List of integers): The list of integers where you will count the even and odd numbers.\n",
    "\n",
    "**Returns:**\n",
    "- A tuple `(even_count, odd_count)` where `even_count` is the number of even numbers and `odd_count` is the number of odd numbers.\n",
    "\n",
    "**Example:**\n",
    "1. **Input:** `lst = [1, 2, 3, 4, 5]`<br>\n",
    "**Output:** `(2, 3)`\n",
    "    - There are `2` even numbers: 2, 4\n",
    "    - There are `3` odd numbers: 1, 3, 5"
   ]
  },
  {
   "cell_type": "code",
   "execution_count": 1,
   "id": "03207acd",
   "metadata": {},
   "outputs": [],
   "source": [
    "def count_even_odd(lst):\n",
    "    # Your code goes here\n",
    "    count_even = 0\n",
    "    count_odd = 0\n",
    "    \n",
    "    for num in lst:\n",
    "        if num % 2 == 0:\n",
    "            count_even += 1\n",
    "        else:\n",
    "            count_odd += 1\n",
    "    \n",
    "    return (count_even, count_odd)"
   ]
  },
  {
   "cell_type": "code",
   "execution_count": 2,
   "id": "dc0b9ebd",
   "metadata": {},
   "outputs": [
    {
     "data": {
      "text/plain": [
       "(2, 3)"
      ]
     },
     "execution_count": 2,
     "metadata": {},
     "output_type": "execute_result"
    }
   ],
   "source": [
    "lst = [1, 2, 3, 4, 5]\n",
    "count_even_odd(lst)"
   ]
  },
  {
   "cell_type": "code",
   "execution_count": null,
   "id": "1dab6a08",
   "metadata": {},
   "outputs": [],
   "source": []
  }
 ],
 "metadata": {
  "kernelspec": {
   "display_name": "Python 3",
   "language": "python",
   "name": "python3"
  },
  "language_info": {
   "codemirror_mode": {
    "name": "ipython",
    "version": 3
   },
   "file_extension": ".py",
   "mimetype": "text/x-python",
   "name": "python",
   "nbconvert_exporter": "python",
   "pygments_lexer": "ipython3",
   "version": "3.12.0"
  }
 },
 "nbformat": 4,
 "nbformat_minor": 5
}
