{
 "cells": [
  {
   "cell_type": "markdown",
   "id": "7c7b76ee",
   "metadata": {},
   "source": [
    "Problem Description\n",
    "\n",
    "**Sum of List Elements**\n",
    "\n",
    "Write a Python function that calculates the sum of all elements in a given list of integers.\n",
    "\n",
    "\n",
    "**Parameters:**\n",
    "- `numbers` (List of integers): The input list containing integers.\n",
    "\n",
    "\n",
    "**Returns:**\n",
    "- An integer representing the sum of all elements in the input list.\n",
    "\n",
    "\n",
    "\n",
    "**Example:**<br>\n",
    "1. **Input:** `numbers = [1, 2, 3, 4, 5]`<br>\n",
    "**Output:** `15`\n",
    "\n",
    "2. **Input:** `numbers = [10, -5, 7, 8, -2]`<br>\n",
    "**Output:** `18`"
   ]
  },
  {
   "cell_type": "code",
   "execution_count": 1,
   "id": "5830cbfd",
   "metadata": {},
   "outputs": [],
   "source": [
    "def sum_list(numbers):\n",
    "    # Your code goes here\n",
    "    result = 0\n",
    "\n",
    "    for num in numbers:\n",
    "        result += num\n",
    "\n",
    "    return result"
   ]
  },
  {
   "cell_type": "code",
   "execution_count": 2,
   "id": "2bd34430",
   "metadata": {},
   "outputs": [
    {
     "data": {
      "text/plain": [
       "15"
      ]
     },
     "execution_count": 2,
     "metadata": {},
     "output_type": "execute_result"
    }
   ],
   "source": [
    "numbers = [1, 2, 3, 4, 5]\n",
    "sum_list(numbers)"
   ]
  },
  {
   "cell_type": "code",
   "execution_count": null,
   "id": "a3651ecd",
   "metadata": {},
   "outputs": [],
   "source": []
  }
 ],
 "metadata": {
  "kernelspec": {
   "display_name": "Python 3",
   "language": "python",
   "name": "python3"
  },
  "language_info": {
   "codemirror_mode": {
    "name": "ipython",
    "version": 3
   },
   "file_extension": ".py",
   "mimetype": "text/x-python",
   "name": "python",
   "nbconvert_exporter": "python",
   "pygments_lexer": "ipython3",
   "version": "3.12.0"
  }
 },
 "nbformat": 4,
 "nbformat_minor": 5
}
