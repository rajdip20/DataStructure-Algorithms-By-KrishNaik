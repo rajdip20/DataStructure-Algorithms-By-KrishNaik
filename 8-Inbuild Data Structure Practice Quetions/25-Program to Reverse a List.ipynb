{
 "cells": [
  {
   "cell_type": "markdown",
   "id": "d22fce8d",
   "metadata": {},
   "source": [
    "**Reverse a List (Non-Slicing Approach)**\n",
    "\n",
    "You are given a list of integers. Write a Python program that reverses the list without using slicing (`lst[::-1]`). The program should return the reversed list.\n",
    "\n",
    "**Parameters:**\n",
    "- `lst` (List of integers): The list of integers to be reversed.\n",
    "\n",
    "**Returns:**\n",
    "- A list of integers where the order of elements is reversed from the input list.\n",
    "\n",
    "**Example:**\n",
    "1. **Input:** `lst = [1, 2, 3, 4, 5]`<br>\n",
    "**Output:** `[5, 4, 3, 2, 1]`"
   ]
  },
  {
   "cell_type": "code",
   "execution_count": 1,
   "id": "238276a6",
   "metadata": {},
   "outputs": [],
   "source": [
    "def reverse_list(lst):\n",
    "    # Your code goes here\n",
    "    lst2 = []\n",
    "    \n",
    "    for i in range(len(lst)):\n",
    "        add = len(lst) - (i + 1)\n",
    "        lst2.append(lst[add])\n",
    "\n",
    "    return lst2"
   ]
  },
  {
   "cell_type": "code",
   "execution_count": 2,
   "id": "1668531e",
   "metadata": {},
   "outputs": [
    {
     "data": {
      "text/plain": [
       "[5, 4, 3, 2, 1]"
      ]
     },
     "execution_count": 2,
     "metadata": {},
     "output_type": "execute_result"
    }
   ],
   "source": [
    "lst = [1, 2, 3, 4, 5]\n",
    "reverse_list(lst)"
   ]
  },
  {
   "cell_type": "code",
   "execution_count": null,
   "id": "a7d936ac",
   "metadata": {},
   "outputs": [],
   "source": []
  }
 ],
 "metadata": {
  "kernelspec": {
   "display_name": "Python 3",
   "language": "python",
   "name": "python3"
  },
  "language_info": {
   "codemirror_mode": {
    "name": "ipython",
    "version": 3
   },
   "file_extension": ".py",
   "mimetype": "text/x-python",
   "name": "python",
   "nbconvert_exporter": "python",
   "pygments_lexer": "ipython3",
   "version": "3.12.0"
  }
 },
 "nbformat": 4,
 "nbformat_minor": 5
}
