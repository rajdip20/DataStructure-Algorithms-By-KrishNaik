{
 "cells": [
  {
   "cell_type": "markdown",
   "id": "f267b5ce",
   "metadata": {},
   "source": [
    "**Check if a List is a Subset of Another List (Brute Force Approach)**\n",
    "\n",
    "You are given two lists of integers. Write a Python program that checks whether the first list is a subset of the second list using a brute-force approach, without using the in keyword. A list is considered a subset if all elements of the first list are present in the second list.\n",
    "\n",
    "**Parameters:**\n",
    "- `lst1` (List of integers): The first list, which is being checked as a subset.\n",
    "- `lst2` (List of integers): The second list, which is the list to compare against.\n",
    "\n",
    "**Returns:**\n",
    "- A boolean value `True` if `lst1` is a subset of `lst2`, otherwise `False`.\n",
    "\n",
    "**Example:**\n",
    "1. **Input:** `lst1 = [1, 2, 3]`, `lst2 = [1, 2, 3, 4, 5]`<br>\n",
    "**Output:** `True`\n",
    "    - All elements in `lst1` are present in `lst2`.\n",
    "\n",
    "2. **Input:** `lst1 = [1, 6]`, `lst2 = [1, 2, 3, 4, 5]`<br>\n",
    "**Output:** `False`\n",
    "    - The element `6` is not present in `lst2`."
   ]
  },
  {
   "cell_type": "code",
   "execution_count": 1,
   "id": "61e2145a",
   "metadata": {},
   "outputs": [],
   "source": [
    "def is_subset(lst1, lst2):\n",
    "    # Your code goes here\n",
    "    for i in range(len(lst1)):\n",
    "        if lst1[i] not in lst2:\n",
    "            return False\n",
    "    \n",
    "    return True"
   ]
  },
  {
   "cell_type": "code",
   "execution_count": 2,
   "id": "179d84df",
   "metadata": {},
   "outputs": [
    {
     "data": {
      "text/plain": [
       "True"
      ]
     },
     "execution_count": 2,
     "metadata": {},
     "output_type": "execute_result"
    }
   ],
   "source": [
    "lst1 = [1, 2, 3]\n",
    "lst2 = [1, 2, 3, 4, 5]\n",
    "\n",
    "is_subset(lst1, lst2)"
   ]
  },
  {
   "cell_type": "code",
   "execution_count": null,
   "id": "1071f1e1",
   "metadata": {},
   "outputs": [],
   "source": []
  }
 ],
 "metadata": {
  "kernelspec": {
   "display_name": "Python 3",
   "language": "python",
   "name": "python3"
  },
  "language_info": {
   "codemirror_mode": {
    "name": "ipython",
    "version": 3
   },
   "file_extension": ".py",
   "mimetype": "text/x-python",
   "name": "python",
   "nbconvert_exporter": "python",
   "pygments_lexer": "ipython3",
   "version": "3.12.0"
  }
 },
 "nbformat": 4,
 "nbformat_minor": 5
}
