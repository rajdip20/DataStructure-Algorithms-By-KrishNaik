{
 "cells": [
  {
   "cell_type": "markdown",
   "id": "5ea35be3",
   "metadata": {},
   "source": [
    "**Find Maximum Difference Between Two Consecutive Elements (Brute Force Approach)**\n",
    "\n",
    "You are given a list of integers. Write a Python program to find the maximum difference between two consecutive elements in the list using a brute-force approach. The difference is defined as the absolute value of the difference between two consecutive elements.\n",
    "\n",
    "**Parameters:**\n",
    "- `lst` (List of integers): A list of integers.\n",
    "\n",
    "**Returns:**\n",
    "- An integer representing the maximum difference between two consecutive elements.\n",
    "\n",
    "**Example:**\n",
    "1. **Input:** `lst = [1, 7, 3, 10, 5]`<br>\n",
    "**Output:** `7`\n",
    "    - The maximum difference is between `3` and `10` (i.e., `|3 - 10| = 7`).\n",
    "\n",
    "2. **Input:** `lst = [10, 11, 15, 3]`<br>\n",
    "**Output:** `12`\n",
    "    - The maximum difference is between `15` and `3` (i.e., `|15 - 3| = 12`)."
   ]
  },
  {
   "cell_type": "code",
   "execution_count": 1,
   "id": "12314117",
   "metadata": {},
   "outputs": [],
   "source": [
    "def max_consecutive_difference(lst):\n",
    "    # Your code goes here\n",
    "    result = 0\n",
    "\n",
    "    for i in range(len(lst) - 1):\n",
    "        diff = 0\n",
    "        if (lst[i] - lst[i + 1]) < 0:\n",
    "            diff = -(lst[i] - lst[i +1])\n",
    "            \n",
    "            if diff > result:\n",
    "                result = diff\n",
    "        \n",
    "        else:\n",
    "            diff = lst[i] - lst[i + 1]\n",
    "\n",
    "            if diff > result:\n",
    "                result = diff\n",
    "\n",
    "    return result"
   ]
  },
  {
   "cell_type": "code",
   "execution_count": 2,
   "id": "5260bbae",
   "metadata": {},
   "outputs": [
    {
     "name": "stdout",
     "output_type": "stream",
     "text": [
      "7\n",
      "12\n"
     ]
    }
   ],
   "source": [
    "lst1 = [1, 7, 3, 10, 5]\n",
    "lst2 = [10, 11, 15, 3]\n",
    "\n",
    "print(max_consecutive_difference(lst1))\n",
    "print(max_consecutive_difference(lst2))"
   ]
  },
  {
   "cell_type": "code",
   "execution_count": null,
   "id": "3630c15d",
   "metadata": {},
   "outputs": [],
   "source": []
  }
 ],
 "metadata": {
  "kernelspec": {
   "display_name": "Python 3",
   "language": "python",
   "name": "python3"
  },
  "language_info": {
   "codemirror_mode": {
    "name": "ipython",
    "version": 3
   },
   "file_extension": ".py",
   "mimetype": "text/x-python",
   "name": "python",
   "nbconvert_exporter": "python",
   "pygments_lexer": "ipython3",
   "version": "3.12.0"
  }
 },
 "nbformat": 4,
 "nbformat_minor": 5
}
