{
 "cells": [
  {
   "cell_type": "markdown",
   "id": "550b2f1f",
   "metadata": {},
   "source": [
    "**Rotate a List (Without Slicing)**\n",
    "\n",
    "You are given a list of integers and an integer `k`. Write a Python function to rotate the list to the right by `k` positions without using slicing. A rotation shifts elements from the end of the list to the front.\n",
    "\n",
    "**Parameters:**\n",
    "- `lst` (List of integers): The list to be rotated.\n",
    "- `k` (Integer): The number of positions to rotate the list.\n",
    "\n",
    "**Returns:**\n",
    "- A list of integers rotated by `k` positions.\n",
    "\n",
    "**Example:**\n",
    "1. **Input:** `lst = [1, 2, 3, 4, 5]`, `k = 2`<br>\n",
    "**Output:** `[4, 5, 1, 2, 3]`\n",
    "\n",
    "2. **Input:** `lst = [10, 20, 30, 40, 50]`, `k = 3`<br>\n",
    "**Output:** `[30, 40, 50, 10, 20]`"
   ]
  },
  {
   "cell_type": "code",
   "execution_count": 1,
   "id": "4bced75e",
   "metadata": {},
   "outputs": [],
   "source": [
    "def rotate_list(lst, k):\n",
    "    # Your code goes here\n",
    "    if not lst:\n",
    "        return lst\n",
    " \n",
    "    n = len(lst)\n",
    "    k = k % n\n",
    " \n",
    "    for _ in range(k):\n",
    "        last = lst[n - 1]\n",
    "        for i in range(n - 1, 0, -1):\n",
    "            lst[i] = lst[i - 1]\n",
    "        \n",
    "        lst[0] = last\n",
    " \n",
    "    return lst"
   ]
  },
  {
   "cell_type": "code",
   "execution_count": 2,
   "id": "4dad1758",
   "metadata": {},
   "outputs": [
    {
     "data": {
      "text/plain": [
       "[4, 5, 1, 2, 3]"
      ]
     },
     "execution_count": 2,
     "metadata": {},
     "output_type": "execute_result"
    }
   ],
   "source": [
    "lst = [1, 2, 3, 4, 5]\n",
    "k = 2\n",
    "rotate_list(lst, k)"
   ]
  },
  {
   "cell_type": "code",
   "execution_count": null,
   "id": "e1ca37c4",
   "metadata": {},
   "outputs": [],
   "source": []
  }
 ],
 "metadata": {
  "kernelspec": {
   "display_name": "Python 3",
   "language": "python",
   "name": "python3"
  },
  "language_info": {
   "codemirror_mode": {
    "name": "ipython",
    "version": 3
   },
   "file_extension": ".py",
   "mimetype": "text/x-python",
   "name": "python",
   "nbconvert_exporter": "python",
   "pygments_lexer": "ipython3",
   "version": "3.12.0"
  }
 },
 "nbformat": 4,
 "nbformat_minor": 5
}
