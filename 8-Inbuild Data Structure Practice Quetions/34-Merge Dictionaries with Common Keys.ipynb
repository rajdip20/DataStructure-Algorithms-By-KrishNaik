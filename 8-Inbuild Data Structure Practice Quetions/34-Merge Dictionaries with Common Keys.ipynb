{
 "cells": [
  {
   "cell_type": "markdown",
   "id": "081ea7c7",
   "metadata": {},
   "source": [
    "**Merge Dictionaries with Overlapping Keys**\n",
    "\n",
    "**Problem Description:**\n",
    "\n",
    "Design a Python function named `merge_dicts_with_overlapping_keys` that merges multiple dictionaries into a single dictionary. If a key appears in more than one dictionary, sum up their values.\n",
    "\n",
    "**Parameters:**\n",
    "- `dicts` (list): A list of dictionaries where keys might overlap.\n",
    "\n",
    "**Returns:**\n",
    "- A single dictionary where values for overlapping keys are summed.\n",
    "\n",
    "**Example:**\n",
    "1. **Input:** `[{'a': 1, 'b': 2}, {'b': 3, 'c': 4}, {'c': 5, 'd': 6}]`<br>\n",
    "**Output:** `{'a': 1, 'b': 5, 'c': 9, 'd': 6}`\n",
    "\n",
    "2. **Input:** `[{'x': 10, 'y': 20}, {'y': 30, 'z': 40}, {'z': 50, 'x': 60}]`<br>\n",
    "**Output:** `{'x': 70, 'y': 50, 'z': 90}`"
   ]
  },
  {
   "cell_type": "code",
   "execution_count": 1,
   "id": "13d4ba1a",
   "metadata": {},
   "outputs": [],
   "source": [
    "def merge_dicts_with_overlapping_keys(dicts):\n",
    "    # Your code goes here\n",
    "    result = {}\n",
    "    \n",
    "    for i in range(len(dicts)):\n",
    "        for key, value in dicts[i].items():\n",
    "            if key not in result:\n",
    "                result[key] = value\n",
    "            else:\n",
    "                result[key] += value\n",
    "                \n",
    "    return result"
   ]
  },
  {
   "cell_type": "code",
   "execution_count": 2,
   "id": "7cac6f49",
   "metadata": {},
   "outputs": [
    {
     "data": {
      "text/plain": [
       "{'a': 1, 'b': 5, 'c': 9, 'd': 6}"
      ]
     },
     "execution_count": 2,
     "metadata": {},
     "output_type": "execute_result"
    }
   ],
   "source": [
    "dicts = [{'a': 1, 'b': 2}, {'b': 3, 'c': 4}, {'c': 5, 'd': 6}]\n",
    "\n",
    "merge_dicts_with_overlapping_keys(dicts)"
   ]
  },
  {
   "cell_type": "code",
   "execution_count": null,
   "id": "b2fc48c1",
   "metadata": {},
   "outputs": [],
   "source": []
  }
 ],
 "metadata": {
  "kernelspec": {
   "display_name": "Python 3",
   "language": "python",
   "name": "python3"
  },
  "language_info": {
   "codemirror_mode": {
    "name": "ipython",
    "version": 3
   },
   "file_extension": ".py",
   "mimetype": "text/x-python",
   "name": "python",
   "nbconvert_exporter": "python",
   "pygments_lexer": "ipython3",
   "version": "3.12.0"
  }
 },
 "nbformat": 4,
 "nbformat_minor": 5
}
