{
 "cells": [
  {
   "cell_type": "markdown",
   "id": "86b8af6d",
   "metadata": {},
   "source": [
    "**Problem Description:**\n",
    "\n",
    "You are given an integer `n`. Your task is to return a diamond pattern of `'*'` with `n` rows for the upper part (the widest row will have `2n - 1` stars), and the lower part is the mirrored version of the upper part. Each row should be centered with appropriate spaces.\n",
    "\n",
    "<br>\n",
    "\n",
    "**Input:**\n",
    "- A single integer `n`, where `1 <= n <= 100`.\n",
    "\n",
    "<br>\n",
    "\n",
    "**Output:**\n",
    "- A list of strings where each string represents a row in the diamond pattern.\n",
    "\n",
    "<br>\n",
    "\n",
    "**Example:**<br>\n",
    ">Input: 3<br>\n",
    ">Output: ['&emsp;\\*&emsp;', '&ensp;\\*\\*\\*&ensp;', '\\*\\*\\*\\*\\*', '&ensp;\\*\\*\\*&ensp;', '&emsp;\\*&emsp;']\n",
    ">\n",
    ">Input: 5<br>\n",
    ">Output: ['&emsp;&emsp;\\*&emsp;&emsp;', '&emsp;&ensp;\\*\\*\\*&emsp;&ensp;', '&emsp;\\*\\*\\*\\*\\*&emsp;', '&ensp;\\*\\*\\*\\*\\*\\*\\*&ensp;', '\\*\\*\\*\\*\\*\\*\\*\\*\\*', '&ensp;\\*\\*\\*\\*\\*\\*\\*&ensp;', '&emsp;\\*\\*\\*\\*\\*&emsp;', '&emsp;&ensp;\\*\\*\\*&emsp;&ensp;', '&emsp;&emsp;\\*&emsp;&emsp;']"
   ]
  },
  {
   "cell_type": "code",
   "execution_count": 1,
   "id": "30bc4e93",
   "metadata": {},
   "outputs": [],
   "source": [
    "def generate_diamond(n):\n",
    "    \"\"\"\n",
    "    Function to return a diamond pattern of '*' of side n as a list of strings.\n",
    "    \n",
    "    Parameters:\n",
    "    n (int): The number of rows for the upper part of the diamond.\n",
    "    \n",
    "    Returns:\n",
    "    list: A list of strings where each string represents a row of the diamond.\n",
    "    \"\"\"\n",
    "    # Your code here\n",
    "    result = []\n",
    "\n",
    "    for i in range(n):\n",
    "        result.append(' ' * (n - (i + 1)) + '*' * (2 * i + 1) + ' ' * (n - (i + 1)))\n",
    "\n",
    "    for i in range(n-1):\n",
    "        result.append(' ' * (i + 1) + '*' * ((2 * (n-1)) - (2 * i + 1)) + ' ' * (i + 1))\n",
    "\n",
    "    return result"
   ]
  },
  {
   "cell_type": "code",
   "execution_count": 2,
   "id": "d10780a6",
   "metadata": {},
   "outputs": [
    {
     "data": {
      "text/plain": [
       "['    *    ',\n",
       " '   ***   ',\n",
       " '  *****  ',\n",
       " ' ******* ',\n",
       " '*********',\n",
       " ' ******* ',\n",
       " '  *****  ',\n",
       " '   ***   ',\n",
       " '    *    ']"
      ]
     },
     "execution_count": 2,
     "metadata": {},
     "output_type": "execute_result"
    }
   ],
   "source": [
    "generate_diamond(5)"
   ]
  },
  {
   "cell_type": "code",
   "execution_count": null,
   "id": "a55d19fd",
   "metadata": {},
   "outputs": [],
   "source": []
  }
 ],
 "metadata": {
  "kernelspec": {
   "display_name": "Python 3",
   "language": "python",
   "name": "python3"
  },
  "language_info": {
   "codemirror_mode": {
    "name": "ipython",
    "version": 3
   },
   "file_extension": ".py",
   "mimetype": "text/x-python",
   "name": "python",
   "nbconvert_exporter": "python",
   "pygments_lexer": "ipython3",
   "version": "3.12.0"
  }
 },
 "nbformat": 4,
 "nbformat_minor": 5
}
