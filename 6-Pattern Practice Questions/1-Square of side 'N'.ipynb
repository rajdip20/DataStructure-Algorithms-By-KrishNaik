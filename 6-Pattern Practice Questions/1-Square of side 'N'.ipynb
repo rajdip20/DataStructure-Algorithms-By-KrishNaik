{
 "cells": [
  {
   "cell_type": "markdown",
   "id": "001bab47",
   "metadata": {},
   "source": [
    "**Problem Description:** You are given an integer `n`. Your task is to return a square pattern of size `n x n` made up of the character `'*'`, represented as a list of strings.\n",
    "\n",
    "<br>\n",
    "\n",
    "**Input Parameters:**\n",
    "- `n` (int): The size of the square (number of rows and columns).\n",
    "\n",
    "<br>\n",
    "\n",
    "**Output:**\n",
    "- A list of strings where each string is a row of `n` characters.\n",
    "\n",
    "<br>\n",
    "\n",
    "**Example:**<br>\n",
    ">Input: 3<br>\n",
    ">Output: ['\\*\\*\\*', '\\*\\*\\*', '\\*\\*\\*']\n",
    "> \n",
    ">Input: 5<br>\n",
    ">Output: ['\\*\\*\\*\\*\\*', '\\*\\*\\*\\*\\*', '\\*\\*\\*\\*\\*', '\\*\\*\\*\\*\\*', '\\*\\*\\*\\*\\*']\n"
   ]
  },
  {
   "cell_type": "code",
   "execution_count": 1,
   "id": "4a14c820",
   "metadata": {},
   "outputs": [],
   "source": [
    "def generate_square(n):\n",
    "    \"\"\"\n",
    "    Function to return a square pattern of '*' of side n as a list of strings.\n",
    "    \n",
    "    Parameters:\n",
    "    n (int): The size of the square.\n",
    "    \n",
    "    Returns:\n",
    "    list: A list of strings where each string represents a row of the square.\n",
    "    \"\"\"\n",
    "    # Your code here\n",
    "    result = []\n",
    "    \n",
    "    for i in range(n):\n",
    "        result.append('*' * n)\n",
    "        \n",
    "    return result"
   ]
  },
  {
   "cell_type": "code",
   "execution_count": 2,
   "id": "7f62c163",
   "metadata": {},
   "outputs": [
    {
     "data": {
      "text/plain": [
       "['*****', '*****', '*****', '*****', '*****']"
      ]
     },
     "execution_count": 2,
     "metadata": {},
     "output_type": "execute_result"
    }
   ],
   "source": [
    "generate_square(5)"
   ]
  },
  {
   "cell_type": "code",
   "execution_count": null,
   "id": "12db9f32",
   "metadata": {},
   "outputs": [],
   "source": []
  }
 ],
 "metadata": {
  "kernelspec": {
   "display_name": "Python 3",
   "language": "python",
   "name": "python3"
  },
  "language_info": {
   "codemirror_mode": {
    "name": "ipython",
    "version": 3
   },
   "file_extension": ".py",
   "mimetype": "text/x-python",
   "name": "python",
   "nbconvert_exporter": "python",
   "pygments_lexer": "ipython3",
   "version": "3.12.0"
  }
 },
 "nbformat": 4,
 "nbformat_minor": 5
}
