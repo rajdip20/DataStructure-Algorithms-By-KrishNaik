{
 "cells": [
  {
   "cell_type": "markdown",
   "id": "bd8c90a9",
   "metadata": {},
   "source": [
    "**Problem Description:**\n",
    "\n",
    "You are given an integer `n`. Your task is to return a right-angled triangle pattern of `'*'`, where each row contains stars aligned to the right. The first row has one star, the second row has two stars, and so on, until the nth row has `n` stars.\n",
    "\n",
    "<br>\n",
    "\n",
    "**Input:**\n",
    "- A single integer `n`, where `1 <= n <= 100`.\n",
    "\n",
    "<br>\n",
    "\n",
    "**Output:**\n",
    "- A list of strings where each string represents a row in the right-angled triangle, right-aligned.\n",
    "\n",
    "<br>\n",
    "\n",
    "**Example:**<br>\n",
    ">Input: 4<br>\n",
    ">Output: ['&emsp;&ensp;\\*', '&emsp;\\*\\*', '&ensp;\\*\\*\\*', '\\*\\*\\*\\*']\n",
    ">\n",
    ">Input: 3<br>\n",
    ">Output: ['&emsp;\\*', '&ensp;\\*\\*', '\\*\\*\\*']"
   ]
  },
  {
   "cell_type": "code",
   "execution_count": 1,
   "id": "dedb612b",
   "metadata": {},
   "outputs": [],
   "source": [
    "def generate_right_angled_triangle(n):\n",
    "    \"\"\"\n",
    "    Function to return a right-angled triangle of '*' of side n as a list of strings.\n",
    "    \n",
    "    Parameters:\n",
    "    n (int): The height of the triangle.\n",
    "    \n",
    "    Returns:\n",
    "    list: A list of strings where each string represents a row of the triangle.\n",
    "    \"\"\"\n",
    "    # Your code here\n",
    "    result = []\n",
    "\n",
    "    for i in range(n):\n",
    "        result.append(' ' * (n-i-1) + '*' * (i+1))\n",
    "    \n",
    "    return result"
   ]
  },
  {
   "cell_type": "code",
   "execution_count": 2,
   "id": "db835743",
   "metadata": {},
   "outputs": [
    {
     "data": {
      "text/plain": [
       "['   *', '  **', ' ***', '****']"
      ]
     },
     "execution_count": 2,
     "metadata": {},
     "output_type": "execute_result"
    }
   ],
   "source": [
    "generate_right_angled_triangle(4)"
   ]
  },
  {
   "cell_type": "code",
   "execution_count": null,
   "id": "077077e9",
   "metadata": {},
   "outputs": [],
   "source": []
  }
 ],
 "metadata": {
  "kernelspec": {
   "display_name": "Python 3",
   "language": "python",
   "name": "python3"
  },
  "language_info": {
   "codemirror_mode": {
    "name": "ipython",
    "version": 3
   },
   "file_extension": ".py",
   "mimetype": "text/x-python",
   "name": "python",
   "nbconvert_exporter": "python",
   "pygments_lexer": "ipython3",
   "version": "3.12.0"
  }
 },
 "nbformat": 4,
 "nbformat_minor": 5
}
