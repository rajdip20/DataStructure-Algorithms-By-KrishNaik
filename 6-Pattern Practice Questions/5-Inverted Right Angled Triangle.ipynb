{
 "cells": [
  {
   "cell_type": "markdown",
   "id": "83413157",
   "metadata": {},
   "source": [
    "**Problem Description:**\n",
    "\n",
    "You are given an integer `n`. Your task is to return an inverted right-angled triangle pattern of `'*'` where each side has `n` characters, represented as a list of strings. The first row should have n stars, the second row `n-1` stars, and so on, until the last row has 1 star.\n",
    "\n",
    "<br>\n",
    "\n",
    "**Input Parameters:**\n",
    "- `n` (int): The height and base of the inverted right-angled triangle.\n",
    "\n",
    "<br>\n",
    "\n",
    "**Output:**\n",
    "- A list of strings where each string is a row of `'*'` characters that decreases in length from `n` to `1`.\n",
    "\n",
    "<br>\n",
    "\n",
    "**Example:**<br>\n",
    ">Input: 3<br>\n",
    ">Output: ['\\*\\*\\*', '\\*\\*', '\\*']\n",
    ">\n",
    ">Input: 5<br>\n",
    ">Output: ['\\*\\*\\*\\*\\*', '\\*\\*\\*\\*', '\\*\\*\\*', '\\*\\*', '\\*']"
   ]
  },
  {
   "cell_type": "code",
   "execution_count": 1,
   "id": "55265175",
   "metadata": {},
   "outputs": [],
   "source": [
    "def generate_inverted_triangle(n):\n",
    "    \"\"\"\n",
    "    Function to return an inverted right-angled triangle of '*' of side n as a list of strings.\n",
    "    \n",
    "    Parameters:\n",
    "    n (int): The height and base of the triangle.\n",
    "    \n",
    "    Returns:\n",
    "    list: A list of strings where each string represents a row of the triangle.\n",
    "    \"\"\"\n",
    "    # Your code here\n",
    "    result = []\n",
    "\n",
    "    for i in range(n, 0, -1):\n",
    "        result.append('*' * i)\n",
    "\n",
    "    return result"
   ]
  },
  {
   "cell_type": "code",
   "execution_count": 2,
   "id": "1cd5bfd2",
   "metadata": {},
   "outputs": [
    {
     "data": {
      "text/plain": [
       "['*****', '****', '***', '**', '*']"
      ]
     },
     "execution_count": 2,
     "metadata": {},
     "output_type": "execute_result"
    }
   ],
   "source": [
    "generate_inverted_triangle(5)"
   ]
  },
  {
   "cell_type": "code",
   "execution_count": null,
   "id": "370289b3",
   "metadata": {},
   "outputs": [],
   "source": []
  }
 ],
 "metadata": {
  "kernelspec": {
   "display_name": "Python 3",
   "language": "python",
   "name": "python3"
  },
  "language_info": {
   "codemirror_mode": {
    "name": "ipython",
    "version": 3
   },
   "file_extension": ".py",
   "mimetype": "text/x-python",
   "name": "python",
   "nbconvert_exporter": "python",
   "pygments_lexer": "ipython3",
   "version": "3.12.0"
  }
 },
 "nbformat": 4,
 "nbformat_minor": 5
}
