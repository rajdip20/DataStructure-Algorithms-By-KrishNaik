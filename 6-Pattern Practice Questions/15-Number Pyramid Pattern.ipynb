{
 "cells": [
  {
   "cell_type": "markdown",
   "id": "124512e8",
   "metadata": {},
   "source": [
    "**Problem Description:**\n",
    "\n",
    "You are given an integer `n`. Your task is to return a pyramid pattern of numbers, where each row contains increasing numbers starting from `1` up to the row number, and the pyramid is centered with leading spaces.\n",
    "\n",
    "<br>\n",
    "\n",
    "**Input:**\n",
    "- A single integer `n`, where `1 <= n <= 100`.\n",
    "\n",
    "<br>\n",
    "\n",
    "**Output:**\n",
    "- A list of strings where each string represents a row in the pyramid pattern.\n",
    "\n",
    "<br>\n",
    "\n",
    "**Example:**<br>\n",
    ">Input: 4<br>\n",
    ">Output: ['&emsp;&ensp;1&emsp;&ensp;', '&emsp;1 2&emsp;', '&ensp;1 2 3&ensp;', '1 2 3 4']\n",
    ">\n",
    ">Input: 3<br>\n",
    ">Output: ['&emsp;1&emsp;', '&ensp;1 2&ensp;', '1 2 3']"
   ]
  },
  {
   "cell_type": "code",
   "execution_count": 1,
   "id": "9759dff2",
   "metadata": {},
   "outputs": [],
   "source": [
    "def generate_number_pyramid(n):\n",
    "    \"\"\"\n",
    "    Function to return a pyramid pattern of numbers of height n as a list of strings.\n",
    "    \n",
    "    Parameters:\n",
    "    n (int): The height of the pyramid.\n",
    "    \n",
    "    Returns:\n",
    "    list: A list of strings where each string represents a row of the pyramid pattern.\n",
    "    \"\"\"\n",
    "    # Your code here\n",
    "    result = []\n",
    "\n",
    "    for i in range(n):\n",
    "        num = 1\n",
    "        temp = [str(num + j) for j in range(i+1)]\n",
    "        result.append(' ' * (n - (i + 1)) + ' '.join(temp) + ' ' * (n - (i + 1)))\n",
    "    \n",
    "    return result"
   ]
  },
  {
   "cell_type": "code",
   "execution_count": 2,
   "id": "93c4cdcf",
   "metadata": {},
   "outputs": [
    {
     "data": {
      "text/plain": [
       "['   1   ', '  1 2  ', ' 1 2 3 ', '1 2 3 4']"
      ]
     },
     "execution_count": 2,
     "metadata": {},
     "output_type": "execute_result"
    }
   ],
   "source": [
    "generate_number_pyramid(4)"
   ]
  },
  {
   "cell_type": "code",
   "execution_count": null,
   "id": "04020493",
   "metadata": {},
   "outputs": [],
   "source": []
  }
 ],
 "metadata": {
  "kernelspec": {
   "display_name": "Python 3",
   "language": "python",
   "name": "python3"
  },
  "language_info": {
   "codemirror_mode": {
    "name": "ipython",
    "version": 3
   },
   "file_extension": ".py",
   "mimetype": "text/x-python",
   "name": "python",
   "nbconvert_exporter": "python",
   "pygments_lexer": "ipython3",
   "version": "3.12.0"
  }
 },
 "nbformat": 4,
 "nbformat_minor": 5
}
