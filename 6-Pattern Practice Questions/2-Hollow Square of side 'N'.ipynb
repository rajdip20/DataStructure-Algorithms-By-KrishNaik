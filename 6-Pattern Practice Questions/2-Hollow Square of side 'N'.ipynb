{
 "cells": [
  {
   "cell_type": "markdown",
   "id": "04bf203c",
   "metadata": {},
   "source": [
    "**Problem Description:**\n",
    "\n",
    "You are given an integer `n`. Your task is to return a hollow square pattern of size `n x n` made up of the character `'*'`, represented as a list of strings. The hollow square has `'*'` on the border, and spaces `' '` in the middle (except for side lengths of `1` and `2`).\n",
    "\n",
    "<br>\n",
    "\n",
    "**Input Parameters:**\n",
    "- `n` (int): The size of the square (number of rows and columns).\n",
    "\n",
    "<br>\n",
    "\n",
    "**Output:**\n",
    "- A list of strings where each string is a row of `n` characters, representing a hollow square.\n",
    "\n",
    "<br>\n",
    "\n",
    "**Example:**<br>\n",
    ">Input: 3<br>\n",
    ">Output: ['\\*\\*\\*', '\\*&ensp;\\*', '\\*\\*\\*']<br>\n",
    "><br>\n",
    ">Input: 5<br>\n",
    ">Output: ['\\*\\*\\*\\*\\*', '\\*&emsp;&ensp;\\*', '\\*&emsp;&ensp;\\*', '\\*&emsp;&ensp;\\*', '\\*\\*\\*\\*\\*']"
   ]
  },
  {
   "cell_type": "code",
   "execution_count": 1,
   "id": "fc97a130",
   "metadata": {},
   "outputs": [],
   "source": [
    "def generate_hollow_square(n):\n",
    "    \"\"\"\n",
    "    Function to return a hollow square pattern of '*' of side n as a list of strings.\n",
    "    \n",
    "    Parameters:\n",
    "    n (int): The size of the square.\n",
    "    \n",
    "    Returns:\n",
    "    list: A list of strings where each string represents a row of the hollow square.\n",
    "    \"\"\"\n",
    "    # Your code here\n",
    "    result = []\n",
    "    \n",
    "    if n == 1:\n",
    "        result.append('*')\n",
    "        return result\n",
    "    \n",
    "    elif n == 2:\n",
    "        for i in range(2):\n",
    "            result.append('*' * 2)\n",
    "    \n",
    "        return result\n",
    "    \n",
    "    else:\n",
    "        for i in range(n):\n",
    "            if i == 0 or i == n-1:\n",
    "                result.append('*' * n)\n",
    "            else:\n",
    "                result.append('*' + ' ' * (n-2) + '*')\n",
    "        \n",
    "        return result"
   ]
  },
  {
   "cell_type": "code",
   "execution_count": 2,
   "id": "4580ad44",
   "metadata": {},
   "outputs": [
    {
     "data": {
      "text/plain": [
       "['*****', '*   *', '*   *', '*   *', '*****']"
      ]
     },
     "execution_count": 2,
     "metadata": {},
     "output_type": "execute_result"
    }
   ],
   "source": [
    "generate_hollow_square(5)"
   ]
  },
  {
   "cell_type": "code",
   "execution_count": null,
   "id": "988ba5a3",
   "metadata": {},
   "outputs": [],
   "source": []
  }
 ],
 "metadata": {
  "kernelspec": {
   "display_name": "Python 3",
   "language": "python",
   "name": "python3"
  },
  "language_info": {
   "codemirror_mode": {
    "name": "ipython",
    "version": 3
   },
   "file_extension": ".py",
   "mimetype": "text/x-python",
   "name": "python",
   "nbconvert_exporter": "python",
   "pygments_lexer": "ipython3",
   "version": "3.12.0"
  }
 },
 "nbformat": 4,
 "nbformat_minor": 5
}
