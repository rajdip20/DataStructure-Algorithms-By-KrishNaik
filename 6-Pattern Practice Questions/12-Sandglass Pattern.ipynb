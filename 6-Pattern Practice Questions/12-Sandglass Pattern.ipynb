{
 "cells": [
  {
   "cell_type": "markdown",
   "id": "bb503ad9",
   "metadata": {},
   "source": [
    "**Problem Description:**\n",
    "\n",
    "You are given an integer `n`. Your task is to return a sandglass pattern of `'*'`, where the first row contains `2n - 1` stars and each subsequent row decreases the number of stars by `2`, until the last row contains a single star. After reaching the smallest width, the pattern then continues with the same number of stars increasing back to `2n - 1`. The stars in each row should be centered.\n",
    "\n",
    "<br>\n",
    "\n",
    "**Input:**\n",
    "- A single integer `n`, where `1 <= n <= 100`.\n",
    "\n",
    "<br>\n",
    "\n",
    "**Output:**\n",
    "- A list of strings where each string represents a row in the sandglass pattern.\n",
    "\n",
    "<br>\n",
    "\n",
    "**Example:**<br>\n",
    ">Input: 3<br>\n",
    ">Output: ['\\*\\*\\*\\*\\*', '&ensp;\\*\\*\\*&ensp;', '&emsp;\\*&emsp;', '&ensp;\\*\\*\\*&ensp;', '\\*\\*\\*\\*\\*']\n",
    ">\n",
    ">Input: 4<br>\n",
    ">Output: ['\\*\\*\\*\\*\\*\\*\\*', '&ensp;\\*\\*\\*\\*\\*&ensp;', '&emsp;\\*\\*\\*&emsp;', '&ensp;&emsp;\\*&ensp;&emsp;', '&emsp;\\*\\*\\*&emsp;', '&ensp;\\*\\*\\*\\*\\*&ensp;', '\\*\\*\\*\\*\\*\\*\\*']\n"
   ]
  },
  {
   "cell_type": "code",
   "execution_count": 1,
   "id": "257c3635",
   "metadata": {},
   "outputs": [],
   "source": [
    "def generate_sandglass(n):\n",
    "    \"\"\"\n",
    "    Function to return a sandglass pattern of '*' of side n as a list of strings.\n",
    "    \n",
    "    Parameters:\n",
    "    n (int): The height of the sandglass.\n",
    "    \n",
    "    Returns:\n",
    "    list: A list of strings where each string represents a row of the sandglass pattern.\n",
    "    \"\"\"\n",
    "    # Your code here\n",
    "    result = []\n",
    "\n",
    "    for i in range(n):\n",
    "        result.append(' ' * i + '*' * ((2 * n) - (2 * i + 1)) + ' ' * i)\n",
    "\n",
    "    for i in range(1, n):\n",
    "        result.append(' ' * (n - i - 1) + '*' * (2 * i + 1) + ' ' * (n - i - 1))\n",
    "    \n",
    "    return result"
   ]
  },
  {
   "cell_type": "code",
   "execution_count": 2,
   "id": "e7b161c1",
   "metadata": {},
   "outputs": [
    {
     "data": {
      "text/plain": [
       "['*******', ' ***** ', '  ***  ', '   *   ', '  ***  ', ' ***** ', '*******']"
      ]
     },
     "execution_count": 2,
     "metadata": {},
     "output_type": "execute_result"
    }
   ],
   "source": [
    "generate_sandglass(4)"
   ]
  },
  {
   "cell_type": "code",
   "execution_count": null,
   "id": "005a3719",
   "metadata": {},
   "outputs": [],
   "source": []
  }
 ],
 "metadata": {
  "kernelspec": {
   "display_name": "Python 3",
   "language": "python",
   "name": "python3"
  },
  "language_info": {
   "codemirror_mode": {
    "name": "ipython",
    "version": 3
   },
   "file_extension": ".py",
   "mimetype": "text/x-python",
   "name": "python",
   "nbconvert_exporter": "python",
   "pygments_lexer": "ipython3",
   "version": "3.12.0"
  }
 },
 "nbformat": 4,
 "nbformat_minor": 5
}
