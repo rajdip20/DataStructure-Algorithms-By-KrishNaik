{
 "cells": [
  {
   "cell_type": "markdown",
   "id": "b0e19460",
   "metadata": {},
   "source": [
    "**Problem Description:**\n",
    "\n",
    "You are given an integer `n`. Your task is to return a hollow inverted right-angled triangle pattern of `'*'`, where the first row contains `n` stars, while the inner rows contain a star at the beginning and end, with spaces in between. The triangle should be left-aligned.\n",
    "\n",
    "<br>\n",
    "\n",
    "**Input:**\n",
    "- A single integer `n`, where `1 <= n <= 100`.\n",
    "\n",
    "<br>\n",
    "\n",
    "**Output:**\n",
    "- A list of strings where each string represents a row in the hollow inverted right-angled triangle.\n",
    "\n",
    "<br>\n",
    "\n",
    "**Example:**<br>\n",
    ">Input: 4<br>\n",
    ">Output: ['\\*\\*\\*\\*', '\\*&ensp;\\*', '\\*\\*', '\\*']\n",
    ">\n",
    ">Input: 5<br>\n",
    ">Output: ['\\*\\*\\*\\*\\*', '\\*&emsp;\\*', '\\*&ensp;\\*', '\\*\\*', '\\*']"
   ]
  },
  {
   "cell_type": "code",
   "execution_count": 1,
   "id": "76bea5d3",
   "metadata": {},
   "outputs": [],
   "source": [
    "def generate_hollow_inverted_right_angled_triangle(n):\n",
    "    \"\"\"\n",
    "    Function to return a hollow inverted right-angled triangle of '*' of side n as a list of strings.\n",
    "    \n",
    "    Parameters:\n",
    "    n (int): The height of the triangle.\n",
    "    \n",
    "    Returns:\n",
    "    list: A list of strings where each string represents a row of the triangle.\n",
    "    \"\"\"\n",
    "    # Your code here\n",
    "    result = []\n",
    "    result.append('*' * n)\n",
    "\n",
    "    for i in range(n-1, 0, -1):\n",
    "        if i == 1:\n",
    "            result.append('*')\n",
    "            break\n",
    "        result.append('*' + ' ' * (i-2) + '*')\n",
    "\n",
    "    return result"
   ]
  },
  {
   "cell_type": "code",
   "execution_count": 2,
   "id": "b4c979f1",
   "metadata": {},
   "outputs": [
    {
     "data": {
      "text/plain": [
       "['*****', '*  *', '* *', '**', '*']"
      ]
     },
     "execution_count": 2,
     "metadata": {},
     "output_type": "execute_result"
    }
   ],
   "source": [
    "generate_hollow_inverted_right_angled_triangle(5)"
   ]
  },
  {
   "cell_type": "code",
   "execution_count": null,
   "id": "92f7d46d",
   "metadata": {},
   "outputs": [],
   "source": []
  }
 ],
 "metadata": {
  "kernelspec": {
   "display_name": "Python 3",
   "language": "python",
   "name": "python3"
  },
  "language_info": {
   "codemirror_mode": {
    "name": "ipython",
    "version": 3
   },
   "file_extension": ".py",
   "mimetype": "text/x-python",
   "name": "python",
   "nbconvert_exporter": "python",
   "pygments_lexer": "ipython3",
   "version": "3.12.0"
  }
 },
 "nbformat": 4,
 "nbformat_minor": 5
}
