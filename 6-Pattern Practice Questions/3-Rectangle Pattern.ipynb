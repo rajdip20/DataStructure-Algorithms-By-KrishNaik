{
 "cells": [
  {
   "cell_type": "markdown",
   "id": "e36dcdbd",
   "metadata": {},
   "source": [
    "**Problem Description:**\n",
    "\n",
    "You are given two integers, `n` and `m`. Your task is to return a rectangle pattern of `'*'`, where `n` represents the number of rows (length) and `m` represents the number of columns (breadth).\n",
    "\n",
    "<br>\n",
    "\n",
    "**Input:**\n",
    "- Two integers `n` and `m`, where `1 <= n`, `m <= 100`.\n",
    "\n",
    "<br>\n",
    "\n",
    "**Output:**\n",
    "- A list of strings where each string represents a row of the rectangle pattern.\n",
    "\n",
    "<br>\n",
    "\n",
    "**Example:**<br>\n",
    ">Input: n = 4, m = 5<br>\n",
    ">Output: ['\\*\\*\\*\\*\\*', '\\*\\*\\*\\*\\*', '\\*\\*\\*\\*\\*', '\\*\\*\\*\\*\\*']\n",
    ">\n",
    ">Input: n = 3, m = 2<br>\n",
    ">Output: ['\\*\\*', '\\*\\*', '\\*\\*']\n"
   ]
  },
  {
   "cell_type": "code",
   "execution_count": 1,
   "id": "7ab23fa0",
   "metadata": {},
   "outputs": [],
   "source": [
    "def generate_rectangle(n, m):\n",
    "    \"\"\"\n",
    "    Function to return a rectangle pattern of '*' with length n and breadth m as a list of strings.\n",
    "    \n",
    "    Parameters:\n",
    "    n (int): The number of rows in the rectangle.\n",
    "    m (int): The number of columns in the rectangle.\n",
    "    \n",
    "    Returns:\n",
    "    list: A list of strings where each string represents a row of the rectangle pattern.\n",
    "    \"\"\"\n",
    "    # Your code here\n",
    "    result = []\n",
    "\n",
    "    for i in range(n):\n",
    "        result.append('*' * m)\n",
    "\n",
    "    return result"
   ]
  },
  {
   "cell_type": "code",
   "execution_count": 2,
   "id": "837006f2",
   "metadata": {},
   "outputs": [
    {
     "data": {
      "text/plain": [
       "['*****', '*****', '*****', '*****']"
      ]
     },
     "execution_count": 2,
     "metadata": {},
     "output_type": "execute_result"
    }
   ],
   "source": [
    "generate_rectangle(4, 5)"
   ]
  },
  {
   "cell_type": "code",
   "execution_count": null,
   "id": "17967b1a",
   "metadata": {},
   "outputs": [],
   "source": []
  }
 ],
 "metadata": {
  "kernelspec": {
   "display_name": "Python 3",
   "language": "python",
   "name": "python3"
  },
  "language_info": {
   "codemirror_mode": {
    "name": "ipython",
    "version": 3
   },
   "file_extension": ".py",
   "mimetype": "text/x-python",
   "name": "python",
   "nbconvert_exporter": "python",
   "pygments_lexer": "ipython3",
   "version": "3.12.0"
  }
 },
 "nbformat": 4,
 "nbformat_minor": 5
}
