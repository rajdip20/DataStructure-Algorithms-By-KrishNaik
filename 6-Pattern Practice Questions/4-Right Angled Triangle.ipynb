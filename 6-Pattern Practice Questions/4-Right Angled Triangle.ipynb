{
 "cells": [
  {
   "cell_type": "markdown",
   "id": "7305c0aa",
   "metadata": {},
   "source": [
    "**Problem Description:**\n",
    "\n",
    "You are given an integer `n`. Your task is to return a right-angled triangle pattern of `'*'` where each side has `n` characters, represented as a list of strings. The triangle has `'*'` characters, starting with 1 star in the first row, 2 stars in the second row, and so on until the last row has `n` stars.\n",
    "\n",
    "<br>\n",
    "\n",
    "**Input Parameters:**\n",
    "- `n` (int): The height and base of the right-angled triangle.\n",
    "\n",
    "<br>\n",
    "\n",
    "**Output:**\n",
    "- A list of strings where each string is a row of `'*'` characters that increases in length from 1 to `n`.\n",
    "\n",
    "<br>\n",
    "\n",
    "**Example:**<br>\n",
    ">Input: 3<br>\n",
    ">Output: ['\\*', '\\*\\*', '\\*\\*\\*']\n",
    ">\n",
    ">Input: 5<br>\n",
    ">Output: ['\\*', '\\*\\*', '\\*\\*\\*', '\\*\\*\\*\\*', '\\*\\*\\*\\*\\*']"
   ]
  },
  {
   "cell_type": "code",
   "execution_count": 1,
   "id": "f91f5a97",
   "metadata": {},
   "outputs": [],
   "source": [
    "def generate_triangle(n):\n",
    "    \"\"\"\n",
    "    Function to return a right-angled triangle of '*' of side n as a list of strings.\n",
    "    \n",
    "    Parameters:\n",
    "    n (int): The height and base of the triangle.\n",
    "    \n",
    "    Returns:\n",
    "    list: A list of strings where each string represents a row of the triangle.\n",
    "    \"\"\"\n",
    "    # Your code here\n",
    "    result = []\n",
    "\n",
    "    for i in range(n):\n",
    "        result.append('*' * (i+1))\n",
    "    \n",
    "    return result"
   ]
  },
  {
   "cell_type": "code",
   "execution_count": 2,
   "id": "d84a206c",
   "metadata": {},
   "outputs": [
    {
     "data": {
      "text/plain": [
       "['*', '**', '***', '****', '*****']"
      ]
     },
     "execution_count": 2,
     "metadata": {},
     "output_type": "execute_result"
    }
   ],
   "source": [
    "generate_triangle(5)"
   ]
  },
  {
   "cell_type": "code",
   "execution_count": null,
   "id": "a6bd7cb1",
   "metadata": {},
   "outputs": [],
   "source": []
  }
 ],
 "metadata": {
  "kernelspec": {
   "display_name": "Python 3",
   "language": "python",
   "name": "python3"
  },
  "language_info": {
   "codemirror_mode": {
    "name": "ipython",
    "version": 3
   },
   "file_extension": ".py",
   "mimetype": "text/x-python",
   "name": "python",
   "nbconvert_exporter": "python",
   "pygments_lexer": "ipython3",
   "version": "3.12.0"
  }
 },
 "nbformat": 4,
 "nbformat_minor": 5
}
