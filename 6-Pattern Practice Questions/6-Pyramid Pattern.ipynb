{
 "cells": [
  {
   "cell_type": "markdown",
   "id": "aa6fe19c",
   "metadata": {},
   "source": [
    "**Problem Description:**\n",
    "\n",
    "You are given an integer `n`. Your task is to return a pyramid pattern of `'*'` where each side has `n` rows, represented as a list of strings. The pyramid is centered, with 1 star in the first row, 3 stars in the second row, and so on, increasing by 2 stars per row until the base row has `2n - 1` stars.\n",
    "\n",
    "<br>\n",
    "\n",
    "**Input:**\n",
    "- A single integer `n`, where `1 <= n <= 100`.\n",
    "\n",
    "<br>\n",
    "\n",
    "**Output:**\n",
    "- A list of strings where each string contains stars (`'*'`) centered, forming a pyramid shape. Each row has an increasing number of stars, with appropriate spaces for centering.\n",
    "\n",
    "<br>\n",
    "\n",
    "**Example:**<br>\n",
    ">Input: 3<br>\n",
    ">Output: ['&ensp;\\*&ensp;', '&nbsp;\\*\\*\\*&nbsp;', '\\*\\*\\*\\*\\*']\n",
    ">\n",
    ">Input: 5<br>\n",
    ">Output: ['&emsp;&emsp;\\*&emsp;&emsp;', '&emsp;&ensp;\\*\\*\\*&emsp;&ensp;', '&emsp;\\*\\*\\*\\*\\*&emsp;', '&nbsp;\\*\\*\\*\\*\\*\\*\\*&nbsp;', '\\*\\*\\*\\*\\*\\*\\*\\*\\*']\n"
   ]
  },
  {
   "cell_type": "code",
   "execution_count": 1,
   "id": "e1ee7d2c",
   "metadata": {},
   "outputs": [],
   "source": [
    "def generate_pyramid(n):\n",
    "    \"\"\"\n",
    "    Function to return a pyramid pattern of '*' of side n as a list of strings.\n",
    "    \n",
    "    Parameters:\n",
    "    n (int): The number of rows in the pyramid.\n",
    "    \n",
    "    Returns:\n",
    "    list: A list of strings where each string represents a row of the pyramid.\n",
    "    \"\"\"\n",
    "    # Your code here\n",
    "    result = []\n",
    "\n",
    "    for i in range(n):\n",
    "        result.append(' ' * (n - (i+1)) + '*' * (2*i + 1) + ' ' * (n - (i+1)))\n",
    "\n",
    "    return result"
   ]
  },
  {
   "cell_type": "code",
   "execution_count": 2,
   "id": "0c75d4a3",
   "metadata": {},
   "outputs": [
    {
     "data": {
      "text/plain": [
       "['  *  ', ' *** ', '*****']"
      ]
     },
     "execution_count": 2,
     "metadata": {},
     "output_type": "execute_result"
    }
   ],
   "source": [
    "generate_pyramid(3)"
   ]
  },
  {
   "cell_type": "code",
   "execution_count": null,
   "id": "0cc0fda8",
   "metadata": {},
   "outputs": [],
   "source": []
  }
 ],
 "metadata": {
  "kernelspec": {
   "display_name": "Python 3",
   "language": "python",
   "name": "python3"
  },
  "language_info": {
   "codemirror_mode": {
    "name": "ipython",
    "version": 3
   },
   "file_extension": ".py",
   "mimetype": "text/x-python",
   "name": "python",
   "nbconvert_exporter": "python",
   "pygments_lexer": "ipython3",
   "version": "3.12.0"
  }
 },
 "nbformat": 4,
 "nbformat_minor": 5
}
