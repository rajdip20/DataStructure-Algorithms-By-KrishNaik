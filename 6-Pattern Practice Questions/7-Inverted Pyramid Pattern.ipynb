{
 "cells": [
  {
   "cell_type": "markdown",
   "id": "678a9c3a",
   "metadata": {},
   "source": [
    "**Problem Description:**\n",
    "\n",
    "You are given an integer `n`. Your task is to return an inverted pyramid pattern of `'*'`, where each side has `n` rows, represented as a list of strings. The first row has `2n - 1` stars, the second row has `2n - 3` stars, and so on, until the last row has 1 star, with each row centered using spaces.\n",
    "\n",
    "<br>\n",
    "\n",
    "**Input Parameters:**\n",
    "- `n` (int): The number of rows in the inverted pyramid.\n",
    "\n",
    "<br>\n",
    "\n",
    "**Output:**\n",
    "- A list of strings where each string represents a row of the inverted pyramid.\n",
    "\n",
    "<br>\n",
    "\n",
    "**Example:**<br>\n",
    ">Input: 3<br>\n",
    ">Output: ['\\*\\*\\*\\*\\*', '&nbsp;\\*\\*\\*&nbsp;', '&emsp;\\*&emsp;']\n",
    ">\n",
    ">Input: 5<br>\n",
    ">Output: ['\\*\\*\\*\\*\\*\\*\\*\\*\\*', '&nbsp;\\*\\*\\*\\*\\*\\*\\*&nbsp;', '&emsp;\\*\\*\\*\\*\\*&emsp;', '&emsp;&ensp;\\*\\*\\*&emsp;&ensp;', '&emsp;&emsp;\\*&emsp;&emsp;']"
   ]
  },
  {
   "cell_type": "code",
   "execution_count": 1,
   "id": "894d844a",
   "metadata": {},
   "outputs": [],
   "source": [
    "def generate_inverted_pyramid(n):\n",
    "    \"\"\"\n",
    "    Function to return an inverted pyramid pattern of '*' of side n as a list of strings.\n",
    "    \n",
    "    Parameters:\n",
    "    n (int): The number of rows in the inverted pyramid.\n",
    "    \n",
    "    Returns:\n",
    "    list: A list of strings where each string represents a row of the inverted pyramid.\n",
    "    \"\"\"\n",
    "    # Your code here\n",
    "    result = []\n",
    "\n",
    "    for i in range(n):\n",
    "        result.append(' ' * i + '*' * ((2 * n) - (2 * i + 1)) + ' ' * i)\n",
    "\n",
    "    return result"
   ]
  },
  {
   "cell_type": "code",
   "execution_count": 2,
   "id": "c11e0b62",
   "metadata": {},
   "outputs": [
    {
     "data": {
      "text/plain": [
       "['*****', ' *** ', '  *  ']"
      ]
     },
     "execution_count": 2,
     "metadata": {},
     "output_type": "execute_result"
    }
   ],
   "source": [
    "generate_inverted_pyramid(3)"
   ]
  },
  {
   "cell_type": "code",
   "execution_count": null,
   "id": "859e1eae",
   "metadata": {},
   "outputs": [],
   "source": []
  }
 ],
 "metadata": {
  "kernelspec": {
   "display_name": "Python 3",
   "language": "python",
   "name": "python3"
  },
  "language_info": {
   "codemirror_mode": {
    "name": "ipython",
    "version": 3
   },
   "file_extension": ".py",
   "mimetype": "text/x-python",
   "name": "python",
   "nbconvert_exporter": "python",
   "pygments_lexer": "ipython3",
   "version": "3.12.0"
  }
 },
 "nbformat": 4,
 "nbformat_minor": 5
}
