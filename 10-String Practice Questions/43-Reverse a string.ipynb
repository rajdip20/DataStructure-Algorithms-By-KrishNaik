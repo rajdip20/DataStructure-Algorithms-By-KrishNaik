{
 "cells": [
  {
   "cell_type": "markdown",
   "id": "417334f6",
   "metadata": {},
   "source": [
    "**Problem Description:**\n",
    "\n",
    "You are given a string `s`. Your task is to return the reversed version of the string.\n",
    "\n",
    "<br>\n",
    "\n",
    "**Input:**\n",
    "- A single string `s`, where the length of `s` is between `1` and `1000`.\n",
    "\n",
    "<br>\n",
    "\n",
    "**Output:**\n",
    "- A single string that is the reverse of the input string.\n",
    "\n",
    "<br>\n",
    "\n",
    "**Example:**\n",
    ">Input: \"hello\"<br>\n",
    ">Output: \"olleh\"<br>\n",
    "><br>\n",
    ">Input: \"Python\"<br>\n",
    ">Output: \"nohtyP\""
   ]
  },
  {
   "cell_type": "code",
   "execution_count": 1,
   "id": "9b63a74a",
   "metadata": {},
   "outputs": [],
   "source": [
    "def reverse_string(s):\n",
    "    \"\"\"\n",
    "    Function to return the reversed version of the input string.\n",
    "    \n",
    "    Parameters:\n",
    "    s (str): The input string to be reversed.\n",
    "    \n",
    "    Returns:\n",
    "    str: The reversed string.\n",
    "    \"\"\"\n",
    "    # Your code here\n",
    "    n = len(s)\n",
    "    result = ''\n",
    "\n",
    "    while n > 0:\n",
    "        result += s[n-1]\n",
    "        n -= 1\n",
    "\n",
    "    return result"
   ]
  },
  {
   "cell_type": "code",
   "execution_count": 2,
   "id": "8d2b33e8",
   "metadata": {},
   "outputs": [
    {
     "data": {
      "text/plain": [
       "'olleh'"
      ]
     },
     "execution_count": 2,
     "metadata": {},
     "output_type": "execute_result"
    }
   ],
   "source": [
    "s = \"hello\"\n",
    "reverse_string(s)"
   ]
  },
  {
   "cell_type": "code",
   "execution_count": null,
   "id": "6eb76505",
   "metadata": {},
   "outputs": [],
   "source": []
  }
 ],
 "metadata": {
  "kernelspec": {
   "display_name": "Python 3",
   "language": "python",
   "name": "python3"
  },
  "language_info": {
   "codemirror_mode": {
    "name": "ipython",
    "version": 3
   },
   "file_extension": ".py",
   "mimetype": "text/x-python",
   "name": "python",
   "nbconvert_exporter": "python",
   "pygments_lexer": "ipython3",
   "version": "3.12.0"
  }
 },
 "nbformat": 4,
 "nbformat_minor": 5
}
