{
 "cells": [
  {
   "cell_type": "markdown",
   "id": "ca90f8cf",
   "metadata": {},
   "source": [
    "**Problem Description:**\n",
    "\n",
    "You are given a string `s`. Your task is to remove duplicate characters from the string while preserving the order of the first occurrences and return the modified string.\n",
    "\n",
    "<br>\n",
    "\n",
    "**Input:**\n",
    "- A single string `s`, where the length of `s` is between `1` and `1000`.\n",
    "\n",
    "<br>\n",
    "\n",
    "**Output:**\n",
    "- A string that contains only the first occurrence of each character from the input string.\n",
    "\n",
    "<br>\n",
    "\n",
    "**Example:**\n",
    ">Input: \"programming\"<br>\n",
    ">Output: \"progamin\"<br>\n",
    "><br>\n",
    ">Input: \"Hello, World!\"<br>\n",
    ">Output: \"Helo, Wrd!\""
   ]
  },
  {
   "cell_type": "code",
   "execution_count": 1,
   "id": "3aecb04b",
   "metadata": {},
   "outputs": [],
   "source": [
    "def remove_duplicates(s):\n",
    "    \"\"\"\n",
    "    Function to remove duplicate characters from the input string.\n",
    "    \n",
    "    Parameters:\n",
    "    s (str): The input string from which duplicates need to be removed.\n",
    "    \n",
    "    Returns:\n",
    "    str: The modified string with duplicates removed.\n",
    "    \"\"\"\n",
    "    # Your code here\n",
    "    result = ''\n",
    "    \n",
    "    for i in range(len(s)):\n",
    "        if s[i] not in result:\n",
    "            result += s[i]\n",
    "            \n",
    "    return result"
   ]
  },
  {
   "cell_type": "code",
   "execution_count": 2,
   "id": "3f162199",
   "metadata": {},
   "outputs": [
    {
     "data": {
      "text/plain": [
       "'progamin'"
      ]
     },
     "execution_count": 2,
     "metadata": {},
     "output_type": "execute_result"
    }
   ],
   "source": [
    "s = \"programming\"\n",
    "remove_duplicates(s)"
   ]
  },
  {
   "cell_type": "code",
   "execution_count": null,
   "id": "d2d46033",
   "metadata": {},
   "outputs": [],
   "source": []
  }
 ],
 "metadata": {
  "kernelspec": {
   "display_name": "Python 3",
   "language": "python",
   "name": "python3"
  },
  "language_info": {
   "codemirror_mode": {
    "name": "ipython",
    "version": 3
   },
   "file_extension": ".py",
   "mimetype": "text/x-python",
   "name": "python",
   "nbconvert_exporter": "python",
   "pygments_lexer": "ipython3",
   "version": "3.12.0"
  }
 },
 "nbformat": 4,
 "nbformat_minor": 5
}
