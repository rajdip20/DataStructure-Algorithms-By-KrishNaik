{
 "cells": [
  {
   "cell_type": "markdown",
   "id": "29687be5",
   "metadata": {},
   "source": [
    "**Problem Description:**\n",
    "\n",
    "You are given a string `s`. Your task is to count the number of words in the string and return the total count. A word is defined as a sequence of characters separated by spaces.\n",
    "\n",
    "<br>\n",
    "\n",
    "**Input:**\n",
    "- A single string `s`, where the length of `s` is between `1` and `1000`.\n",
    "\n",
    "<br>\n",
    "\n",
    "**Output:**\n",
    "- An integer representing the total count of words in the input string.\n",
    "\n",
    "<br>\n",
    "\n",
    "**Example:**\n",
    ">Input: \"Hello, World!\"<br>\n",
    ">Output: 2<br>\n",
    ">\n",
    ">Input: \"Python programming is fun.\"<br>\n",
    ">Output: 4"
   ]
  },
  {
   "cell_type": "code",
   "execution_count": 1,
   "id": "d064a3a4",
   "metadata": {},
   "outputs": [],
   "source": [
    "def count_words(s):\n",
    "    \"\"\"\n",
    "    Function to count the number of words in the input string.\n",
    "    \n",
    "    Parameters:\n",
    "    s (str): The input string to check for words.\n",
    "    \n",
    "    Returns:\n",
    "    int: The count of words in the input string.\n",
    "    \"\"\"\n",
    "    # Your code here\n",
    "    count = 0\n",
    "    s = s.split(' ')\n",
    "    \n",
    "    for i in range(len(s)):\n",
    "        if len(s[i]) > 0:\n",
    "            count += 1\n",
    "            \n",
    "    return count"
   ]
  },
  {
   "cell_type": "code",
   "execution_count": 2,
   "id": "14387d02",
   "metadata": {},
   "outputs": [
    {
     "data": {
      "text/plain": [
       "2"
      ]
     },
     "execution_count": 2,
     "metadata": {},
     "output_type": "execute_result"
    }
   ],
   "source": [
    "s = \"Hello, World!\"\n",
    "count_words(s)"
   ]
  },
  {
   "cell_type": "code",
   "execution_count": null,
   "id": "c517d659",
   "metadata": {},
   "outputs": [],
   "source": []
  }
 ],
 "metadata": {
  "kernelspec": {
   "display_name": "Python 3",
   "language": "python",
   "name": "python3"
  },
  "language_info": {
   "codemirror_mode": {
    "name": "ipython",
    "version": 3
   },
   "file_extension": ".py",
   "mimetype": "text/x-python",
   "name": "python",
   "nbconvert_exporter": "python",
   "pygments_lexer": "ipython3",
   "version": "3.12.0"
  }
 },
 "nbformat": 4,
 "nbformat_minor": 5
}
