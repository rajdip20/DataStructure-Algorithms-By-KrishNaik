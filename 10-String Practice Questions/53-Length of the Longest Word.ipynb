{
 "cells": [
  {
   "cell_type": "markdown",
   "id": "39eaa7e9",
   "metadata": {},
   "source": [
    "**Problem Description:**\n",
    "\n",
    "You are given a string `s`. Your task is to find the length of the longest word in the string. A word is defined as a sequence of characters separated by spaces. Do not use any built-in functions for string manipulation.\n",
    "\n",
    "<br>\n",
    "\n",
    "**Input:**\n",
    "- A string `s`, where the length of `s` is between `1` and `1000` characters.\n",
    "\n",
    "<br>\n",
    "\n",
    "**Output:**\n",
    "- An integer representing the length of the longest word in the string.\n",
    "\n",
    "<br>\n",
    "\n",
    "**Example:**\n",
    ">Input: s = \"The quick brown fox jumps over the lazy dog\"<br>\n",
    ">Output: 5<br>\n",
    "><br>\n",
    ">Input: s = \"Hello World\"<br>\n",
    ">Output: 5"
   ]
  },
  {
   "cell_type": "code",
   "execution_count": 1,
   "id": "a4220c52",
   "metadata": {},
   "outputs": [],
   "source": [
    "def longest_word_length(s):\n",
    "    \"\"\"\n",
    "    Function to find the length of the longest word in a string without using built-in functions.\n",
    "    \n",
    "    Parameters:\n",
    "    s (str): The input string.\n",
    "    \n",
    "    Returns:\n",
    "    int: The length of the longest word.\n",
    "    \"\"\"\n",
    "    # Your code here\n",
    "    result = 0\n",
    "    s = s.split(' ')\n",
    "\n",
    "    for i in range(len(s)):\n",
    "        if len(s[i]) > result:\n",
    "            result = len(s[i])\n",
    "\n",
    "    return result"
   ]
  },
  {
   "cell_type": "code",
   "execution_count": 2,
   "id": "53b831a6",
   "metadata": {},
   "outputs": [
    {
     "data": {
      "text/plain": [
       "5"
      ]
     },
     "execution_count": 2,
     "metadata": {},
     "output_type": "execute_result"
    }
   ],
   "source": [
    "s = \"The quick brown fox jumps over the lazy dog\"\n",
    "longest_word_length(s)"
   ]
  },
  {
   "cell_type": "code",
   "execution_count": null,
   "id": "a09518df",
   "metadata": {},
   "outputs": [],
   "source": []
  }
 ],
 "metadata": {
  "kernelspec": {
   "display_name": "Python 3",
   "language": "python",
   "name": "python3"
  },
  "language_info": {
   "codemirror_mode": {
    "name": "ipython",
    "version": 3
   },
   "file_extension": ".py",
   "mimetype": "text/x-python",
   "name": "python",
   "nbconvert_exporter": "python",
   "pygments_lexer": "ipython3",
   "version": "3.12.0"
  }
 },
 "nbformat": 4,
 "nbformat_minor": 5
}
