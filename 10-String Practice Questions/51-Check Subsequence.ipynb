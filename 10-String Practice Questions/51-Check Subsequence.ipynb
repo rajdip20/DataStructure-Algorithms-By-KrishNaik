{
 "cells": [
  {
   "cell_type": "markdown",
   "id": "d7ccef40",
   "metadata": {},
   "source": [
    "**Problem Description:**\n",
    "\n",
    "You are given two strings `s` and `t`. Your task is to determine if string `t` is a subsequence of string `s`. A subsequence of a string is a new string that is formed from the original string by deleting some (or no) characters without changing the order of the remaining characters.\n",
    "\n",
    "<br>\n",
    "\n",
    "**Input:**\n",
    "- Two strings `s` and `t` where the length of `s` is between `1` and `1000`, and the length of `t` is between `1` and `1000`.\n",
    "\n",
    "<br>\n",
    "\n",
    "**Output:**\n",
    "- Return `True` if `t` is a subsequence of `s`, and `False` otherwise.\n",
    "\n",
    "<br>\n",
    "\n",
    "**Example:**\n",
    ">Input: s = \"abcde\", t = \"ace\"<br>\n",
    ">Output: True<br>\n",
    "><br>\n",
    ">Input: s = \"abcde\", t = \"aec\"<br>\n",
    ">Output: False"
   ]
  },
  {
   "cell_type": "code",
   "execution_count": 1,
   "id": "7ae2ee1c",
   "metadata": {},
   "outputs": [],
   "source": [
    "def is_subsequence(s, t):\n",
    "    \"\"\"\n",
    "    Function to check if t is a subsequence of s.\n",
    "    \n",
    "    Parameters:\n",
    "    s (str): The original string.\n",
    "    t (str): The target subsequence string.\n",
    "    \n",
    "    Returns:\n",
    "    bool: True if t is a subsequence of s, False otherwise.\n",
    "    \"\"\"\n",
    "    # Your code here\n",
    "    m, n = len(s), len(t)\n",
    "    i, j = 0, 0\n",
    "\n",
    "    while i < m and j < n:\n",
    "        if s[i] == t[j]:\n",
    "            j += 1\n",
    "\n",
    "        i += 1\n",
    "\n",
    "    return j == n"
   ]
  },
  {
   "cell_type": "code",
   "execution_count": 2,
   "id": "c53de23c",
   "metadata": {},
   "outputs": [
    {
     "data": {
      "text/plain": [
       "True"
      ]
     },
     "execution_count": 2,
     "metadata": {},
     "output_type": "execute_result"
    }
   ],
   "source": [
    "s = \"abcde\"\n",
    "t = \"ace\"\n",
    "is_subsequence(s, t)"
   ]
  },
  {
   "cell_type": "code",
   "execution_count": null,
   "id": "35aa89cb",
   "metadata": {},
   "outputs": [],
   "source": []
  }
 ],
 "metadata": {
  "kernelspec": {
   "display_name": "Python 3",
   "language": "python",
   "name": "python3"
  },
  "language_info": {
   "codemirror_mode": {
    "name": "ipython",
    "version": 3
   },
   "file_extension": ".py",
   "mimetype": "text/x-python",
   "name": "python",
   "nbconvert_exporter": "python",
   "pygments_lexer": "ipython3",
   "version": "3.12.0"
  }
 },
 "nbformat": 4,
 "nbformat_minor": 5
}
