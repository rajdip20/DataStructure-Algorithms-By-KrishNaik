{
 "cells": [
  {
   "cell_type": "markdown",
   "id": "05d7b7bc",
   "metadata": {},
   "source": [
    "**Problem Description:**\n",
    "\n",
    "You are given a string `s`. Your task is to check if the string is a palindrome. A string is considered a palindrome if it reads the same forward and backward, ignoring spaces, punctuation, and case.\n",
    "\n",
    "<br>\n",
    "\n",
    "**Input:**\n",
    "- A single string `s`, where the length of `s` is between `1` and `1000`.\n",
    "\n",
    "<br>\n",
    "\n",
    "**Output:**\n",
    "- A boolean value: `True` if the string is a palindrome, and `False` otherwise.\n",
    "\n",
    "<br>\n",
    "\n",
    "**Example:**\n",
    ">Input: \"A man a plan a canal Panama\"<br>\n",
    ">Output: True<br>\n",
    "><br>\n",
    ">Input: \"Hello, World!\"<br>\n",
    ">Output: False"
   ]
  },
  {
   "cell_type": "code",
   "execution_count": null,
   "id": "03bbd72b",
   "metadata": {},
   "outputs": [],
   "source": [
    "def is_palindrome(s):\n",
    "    \"\"\"\n",
    "    Function to check if the input string is a palindrome.\n",
    "    \n",
    "    Parameters:\n",
    "    s (str): The input string to check.\n",
    "    \n",
    "    Returns:\n",
    "    bool: True if the string is a palindrome, False otherwise.\n",
    "    \"\"\"\n",
    "    # Your code here\n",
    "    s = s.replace(' ', '').lower()\n",
    "    start = 0\n",
    "    end = len(s) - 1\n",
    "    \n",
    "    while start < end:\n",
    "        if s[start] != s[end]:\n",
    "            return False\n",
    "            \n",
    "        start += 1\n",
    "        end -= 1\n",
    "        \n",
    "    return True"
   ]
  },
  {
   "cell_type": "code",
   "execution_count": 2,
   "id": "ee68fc57",
   "metadata": {},
   "outputs": [
    {
     "data": {
      "text/plain": [
       "True"
      ]
     },
     "execution_count": 2,
     "metadata": {},
     "output_type": "execute_result"
    }
   ],
   "source": [
    "s = \"A man a plan a canal Panama\"\n",
    "\n",
    "is_palindrome(s)"
   ]
  },
  {
   "cell_type": "code",
   "execution_count": null,
   "id": "021aa2a9",
   "metadata": {},
   "outputs": [],
   "source": []
  }
 ],
 "metadata": {
  "kernelspec": {
   "display_name": "Python 3",
   "language": "python",
   "name": "python3"
  },
  "language_info": {
   "codemirror_mode": {
    "name": "ipython",
    "version": 3
   },
   "file_extension": ".py",
   "mimetype": "text/x-python",
   "name": "python",
   "nbconvert_exporter": "python",
   "pygments_lexer": "ipython3",
   "version": "3.12.0"
  }
 },
 "nbformat": 4,
 "nbformat_minor": 5
}
