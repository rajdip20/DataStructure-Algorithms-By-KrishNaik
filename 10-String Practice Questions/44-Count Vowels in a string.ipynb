{
 "cells": [
  {
   "cell_type": "markdown",
   "id": "451a9598",
   "metadata": {},
   "source": [
    "**Problem Description:**\n",
    "\n",
    "You are given a string `s`. Your task is to count the number of vowels (both uppercase and lowercase) in the string and return the total count.\n",
    "\n",
    "<br>\n",
    "\n",
    "**Input:**\n",
    "- A single string `s`, where the length of `s` is between `1` and `1000`.\n",
    "\n",
    "<br>\n",
    "\n",
    "**Output:**\n",
    "- An integer representing the total count of vowels in the input string.\n",
    "\n",
    "<br>\n",
    "\n",
    "**Example:**\n",
    ">Input: \"Hello, World!\"<br>\n",
    ">Output: 3<br>\n",
    "><br>\n",
    ">Input: \"Python Programming\"<br>\n",
    ">Output: 4"
   ]
  },
  {
   "cell_type": "code",
   "execution_count": 1,
   "id": "5230b3c6",
   "metadata": {},
   "outputs": [],
   "source": [
    "def count_vowels(s):\n",
    "    \"\"\"\n",
    "    Function to count the number of vowels in the input string.\n",
    "    \n",
    "    Parameters:\n",
    "    s (str): The input string to check for vowels.\n",
    "    \n",
    "    Returns:\n",
    "    int: The count of vowels in the input string.\n",
    "    \"\"\"\n",
    "    # Your code here\n",
    "    result = 0\n",
    "\n",
    "    for i in range(len(s)):\n",
    "        if s[i].lower() in 'aeiou':\n",
    "            result += 1\n",
    "\n",
    "    return result"
   ]
  },
  {
   "cell_type": "code",
   "execution_count": 2,
   "id": "5fb0d7a4",
   "metadata": {},
   "outputs": [
    {
     "data": {
      "text/plain": [
       "3"
      ]
     },
     "execution_count": 2,
     "metadata": {},
     "output_type": "execute_result"
    }
   ],
   "source": [
    "s = \"Hello, World!\"\n",
    "count_vowels(s)"
   ]
  },
  {
   "cell_type": "code",
   "execution_count": null,
   "id": "37a35f33",
   "metadata": {},
   "outputs": [],
   "source": []
  }
 ],
 "metadata": {
  "kernelspec": {
   "display_name": "Python 3",
   "language": "python",
   "name": "python3"
  },
  "language_info": {
   "codemirror_mode": {
    "name": "ipython",
    "version": 3
   },
   "file_extension": ".py",
   "mimetype": "text/x-python",
   "name": "python",
   "nbconvert_exporter": "python",
   "pygments_lexer": "ipython3",
   "version": "3.12.0"
  }
 },
 "nbformat": 4,
 "nbformat_minor": 5
}
