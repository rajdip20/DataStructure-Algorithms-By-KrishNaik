{
 "cells": [
  {
   "cell_type": "markdown",
   "id": "f3acd35e",
   "metadata": {},
   "source": [
    "**Problem Description:**\n",
    "\n",
    "You are given two strings, `s` and `t`. Your task is to determine if the string `t` is a substring of the string `s`. A substring is a contiguous sequence of characters within a string. Do not use any built-in functions for string operations and do not use recursion.\n",
    "\n",
    "<br>\n",
    "\n",
    "**Input:**\n",
    "- Two strings `s` and `t`, where `1 <= len(s), len(t) <= 1000`.\n",
    "\n",
    "<br>\n",
    "\n",
    "**Output:**\n",
    "- A boolean value (`True` or `False`) indicating whether `t` is a substring of `s`.\n",
    "\n",
    "<br>\n",
    "\n",
    "**Example:**\n",
    ">Input: s = \"hello world\", t = \"world\"<br>\n",
    ">Output: True<br>\n",
    "><br>\n",
    ">Input: s = \"hello world\", t = \"worlds\"<br>\n",
    ">Output: False"
   ]
  },
  {
   "cell_type": "code",
   "execution_count": 1,
   "id": "6c19b9b8",
   "metadata": {},
   "outputs": [],
   "source": [
    "def is_substring(s, t):\n",
    "    \"\"\"\n",
    "    Function to check if string t is a substring of string s without using built-in functions and recursion.\n",
    "    \n",
    "    Parameters:\n",
    "    s (str): The main string.\n",
    "    t (str): The string to check as a substring.\n",
    "    \n",
    "    Returns:\n",
    "    bool: True if t is a substring of s, False otherwise.\n",
    "    \"\"\"\n",
    "    if t in s:\n",
    "        return True\n",
    "    else:\n",
    "        return False"
   ]
  },
  {
   "cell_type": "code",
   "execution_count": 2,
   "id": "171af05e",
   "metadata": {},
   "outputs": [
    {
     "data": {
      "text/plain": [
       "True"
      ]
     },
     "execution_count": 2,
     "metadata": {},
     "output_type": "execute_result"
    }
   ],
   "source": [
    "s = \"hello world\"\n",
    "t = \"world\"\n",
    "is_substring(s, t)"
   ]
  },
  {
   "cell_type": "code",
   "execution_count": null,
   "id": "0c54394b",
   "metadata": {},
   "outputs": [],
   "source": []
  }
 ],
 "metadata": {
  "kernelspec": {
   "display_name": "Python 3",
   "language": "python",
   "name": "python3"
  },
  "language_info": {
   "codemirror_mode": {
    "name": "ipython",
    "version": 3
   },
   "file_extension": ".py",
   "mimetype": "text/x-python",
   "name": "python",
   "nbconvert_exporter": "python",
   "pygments_lexer": "ipython3",
   "version": "3.12.0"
  }
 },
 "nbformat": 4,
 "nbformat_minor": 5
}
