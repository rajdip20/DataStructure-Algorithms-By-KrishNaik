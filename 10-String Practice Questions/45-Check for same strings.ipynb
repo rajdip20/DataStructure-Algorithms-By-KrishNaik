{
 "cells": [
  {
   "cell_type": "markdown",
   "id": "ee8b5e31",
   "metadata": {},
   "source": [
    "**Problem Description:**\n",
    "\n",
    "You are given two strings `s` and `t`. Your task is to check if the two strings are equal. Two strings are considered equal if they have the same length and the same characters at each position. You are not allowed to use any built-in string comparison functions.\n",
    "\n",
    "<br>\n",
    "\n",
    "**Input:**\n",
    "- Two strings `s` and `t`, where `1 <= len(s), len(t) <= 1000`.\n",
    "\n",
    "<br>\n",
    "\n",
    "**Output:**\n",
    "- A boolean value (`True` or `False`) indicating whether the two strings are equal.\n",
    "\n",
    "<br>\n",
    "\n",
    "**Example:**\n",
    ">Input: s = \"hello\", t = \"hello\"<br>\n",
    ">Output: True<br>\n",
    "><br>\n",
    ">Input: s = \"hello\", t = \"world\"<br>\n",
    ">Output: False"
   ]
  },
  {
   "cell_type": "code",
   "execution_count": null,
   "id": "f7d35151",
   "metadata": {},
   "outputs": [],
   "source": [
    "def are_equal_strings(s, t):\n",
    "    \"\"\"\n",
    "    Function to check if two strings are equal without using built-in functions.\n",
    "    \n",
    "    Parameters:\n",
    "    s (str): The first string.\n",
    "    t (str): The second string.\n",
    "    \n",
    "    Returns:\n",
    "    bool: True if the strings are equal, False otherwise.\n",
    "    \"\"\"\n",
    "    # Your code here\n",
    "    if len(s) != len(t):\n",
    "        return False\n",
    "        \n",
    "    for i in range(len(s)):\n",
    "        if s[i].lower() != t[i].lower():\n",
    "            return False\n",
    "            \n",
    "    return True"
   ]
  },
  {
   "cell_type": "code",
   "execution_count": 2,
   "id": "1d38587b",
   "metadata": {},
   "outputs": [
    {
     "data": {
      "text/plain": [
       "True"
      ]
     },
     "execution_count": 2,
     "metadata": {},
     "output_type": "execute_result"
    }
   ],
   "source": [
    "s = \"hello\"\n",
    "t = \"hello\"\n",
    "\n",
    "are_equal_strings(s, t)"
   ]
  },
  {
   "cell_type": "code",
   "execution_count": null,
   "id": "bd7a5183",
   "metadata": {},
   "outputs": [],
   "source": []
  }
 ],
 "metadata": {
  "kernelspec": {
   "display_name": "Python 3",
   "language": "python",
   "name": "python3"
  },
  "language_info": {
   "codemirror_mode": {
    "name": "ipython",
    "version": 3
   },
   "file_extension": ".py",
   "mimetype": "text/x-python",
   "name": "python",
   "nbconvert_exporter": "python",
   "pygments_lexer": "ipython3",
   "version": "3.12.0"
  }
 },
 "nbformat": 4,
 "nbformat_minor": 5
}
