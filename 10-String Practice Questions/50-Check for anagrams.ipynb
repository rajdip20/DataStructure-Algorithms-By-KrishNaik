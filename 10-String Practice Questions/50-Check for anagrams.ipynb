{
 "cells": [
  {
   "cell_type": "markdown",
   "id": "f7da3d78",
   "metadata": {},
   "source": [
    "**Problem Description:**\n",
    "\n",
    "You are given two strings `s` and `t`. Your task is to determine if string `t` is an anagram of string `s`. An anagram is a word or phrase formed by rearranging the characters of a different word or phrase, using all the original characters exactly once.\n",
    "\n",
    "<br>\n",
    "\n",
    "**Input:**\n",
    "- Two strings `s` and `t` where both lengths are between `1` and `1000`.\n",
    "\n",
    "<br>\n",
    "\n",
    "**Output:**\n",
    "- Return `True` if `t` is an anagram of `s`, and `False` otherwise.\n",
    "\n",
    "<br>\n",
    "\n",
    "**Example:**\n",
    ">Input: s = \"anagram\", t = \"nagaram\"<br>\n",
    ">Output: True<br>\n",
    "><br>\n",
    ">Input: s = \"rat\", t = \"car\"<br>\n",
    ">Output: False"
   ]
  },
  {
   "cell_type": "code",
   "execution_count": 1,
   "metadata": {},
   "outputs": [],
   "source": [
    "def is_anagram(s, t):\n",
    "    \"\"\"\n",
    "    Function to check if t is an anagram of s.\n",
    "    \n",
    "    Parameters:\n",
    "    s (str): The first input string.\n",
    "    t (str): The second input string.\n",
    "    \n",
    "    Returns:\n",
    "    bool: True if t is an anagram of s, False otherwise.\n",
    "    \"\"\"\n",
    "    # Your code here\n",
    "    s = list(s)\n",
    "    t = list(t)\n",
    "    \n",
    "    if len(s) != len(t):\n",
    "        return False\n",
    "        \n",
    "    for i in range(len(s)):\n",
    "        if s[i] not in t:\n",
    "            return False\n",
    "            \n",
    "        else:\n",
    "            t.remove(s[i])\n",
    "            \n",
    "    return True"
   ]
  },
  {
   "cell_type": "code",
   "execution_count": 2,
   "metadata": {},
   "outputs": [
    {
     "data": {
      "text/plain": [
       "True"
      ]
     },
     "execution_count": 2,
     "metadata": {},
     "output_type": "execute_result"
    }
   ],
   "source": [
    "s = \"anagram\"\n",
    "t = \"nagaram\"\n",
    "is_anagram(s, t)"
   ]
  },
  {
   "cell_type": "code",
   "execution_count": null,
   "id": "09e02029",
   "metadata": {},
   "outputs": [],
   "source": []
  }
 ],
 "metadata": {
  "kernelspec": {
   "display_name": "Python 3",
   "language": "python",
   "name": "python3"
  },
  "language_info": {
   "codemirror_mode": {
    "name": "ipython",
    "version": 3
   },
   "file_extension": ".py",
   "mimetype": "text/x-python",
   "name": "python",
   "nbconvert_exporter": "python",
   "pygments_lexer": "ipython3",
   "version": "3.12.0"
  }
 },
 "nbformat": 4,
 "nbformat_minor": 5
}
