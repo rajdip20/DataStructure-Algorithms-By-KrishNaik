{
 "cells": [
  {
   "cell_type": "markdown",
   "id": "8abcf65c",
   "metadata": {},
   "source": [
    "**Problem Description:**\n",
    "\n",
    "You are given a string `s`. Your task is to count the number of consonants in the string and return the total count. A consonant is any alphabetic character that is not a vowel (`a, e, i, o, u`).\n",
    "\n",
    "<br>\n",
    "\n",
    "**Input:**\n",
    "- A single string `s`, where the length of `s` is between `1` and `1000`.\n",
    "\n",
    "<br>\n",
    "\n",
    "**Output:**\n",
    "- An integer representing the total count of consonants in the input string.\n",
    "\n",
    "<br>\n",
    "\n",
    "**Example:**\n",
    ">Input: \"Hello, World!\"<br>\n",
    ">Output: 7<br>\n",
    "><br>\n",
    ">Input: \"Python Programming\"<br>\n",
    ">Output: 13"
   ]
  },
  {
   "cell_type": "code",
   "execution_count": 1,
   "id": "41c26455",
   "metadata": {},
   "outputs": [],
   "source": [
    "def count_consonants(s):\n",
    "    \"\"\"\n",
    "    Function to count the number of consonants in the input string.\n",
    "    \n",
    "    Parameters:\n",
    "    s (str): The input string to check for consonants.\n",
    "    \n",
    "    Returns:\n",
    "    int: The count of consonants in the input string.\n",
    "    \"\"\"\n",
    "    # Your code here\n",
    "    count = 0\n",
    "    s = s.lower()\n",
    "    \n",
    "    for i in range(len(s)):\n",
    "        if s[i] in 'bcdfghjklmnpqrstvwxyz':\n",
    "            count += 1\n",
    "            \n",
    "    return count\n"
   ]
  },
  {
   "cell_type": "code",
   "execution_count": 2,
   "id": "8f59b99c",
   "metadata": {},
   "outputs": [
    {
     "data": {
      "text/plain": [
       "7"
      ]
     },
     "execution_count": 2,
     "metadata": {},
     "output_type": "execute_result"
    }
   ],
   "source": [
    "s = \"Hello, World!\"\n",
    "count_consonants(s)"
   ]
  },
  {
   "cell_type": "code",
   "execution_count": null,
   "id": "c6bf719c",
   "metadata": {},
   "outputs": [],
   "source": []
  }
 ],
 "metadata": {
  "kernelspec": {
   "display_name": "Python 3",
   "language": "python",
   "name": "python3"
  },
  "language_info": {
   "codemirror_mode": {
    "name": "ipython",
    "version": 3
   },
   "file_extension": ".py",
   "mimetype": "text/x-python",
   "name": "python",
   "nbconvert_exporter": "python",
   "pygments_lexer": "ipython3",
   "version": "3.12.0"
  }
 },
 "nbformat": 4,
 "nbformat_minor": 5
}
