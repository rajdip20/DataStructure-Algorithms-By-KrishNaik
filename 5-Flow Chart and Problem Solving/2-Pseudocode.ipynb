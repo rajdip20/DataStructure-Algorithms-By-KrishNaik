{
 "cells": [
  {
   "cell_type": "markdown",
   "id": "d9bec056",
   "metadata": {},
   "source": [
    "Begin<br>\n",
    "&emsp;&emsp;Input FirstNumber<br>\n",
    "&emsp;&emsp;Input SecondNumber<br>\n",
    "&emsp;&emsp;SUM = FirstNumber + SecondNumber<br>\n",
    "&emsp;&emsp;print SUM<br>\n",
    "End"
   ]
  },
  {
   "cell_type": "code",
   "execution_count": null,
   "id": "efb1875a",
   "metadata": {},
   "outputs": [],
   "source": []
  }
 ],
 "metadata": {
  "kernelspec": {
   "display_name": "Python 3",
   "language": "python",
   "name": "python3"
  },
  "language_info": {
   "name": "python",
   "version": "3.12.0"
  }
 },
 "nbformat": 4,
 "nbformat_minor": 5
}
