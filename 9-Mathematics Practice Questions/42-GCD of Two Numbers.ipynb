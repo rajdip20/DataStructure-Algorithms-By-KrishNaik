{
 "cells": [
  {
   "cell_type": "markdown",
   "id": "e7bcb23c",
   "metadata": {},
   "source": [
    "**Problem Description:**\n",
    "\n",
    "You are given two integers `n` and `m`. Your task is to find the GCD of these two numbers. The GCD is the largest positive integer that divides both numbers without leaving a remainder. Do not use any built-in functions and do not use recursion.\n",
    "\n",
    "<br>\n",
    "\n",
    "**Input:**\n",
    "- Two integers `n` and `m`, where `1 <= n, m <= 10^9`.\n",
    "\n",
    "<br>\n",
    "\n",
    "**Output:**\n",
    "- An integer representing the GCD of `n` and `m`.\n",
    "\n",
    "<br>\n",
    "\n",
    "**Example:**\n",
    ">Input: n = 48, m = 18<br>\n",
    ">Output: 6<br>\n",
    "><br>\n",
    ">Input: n = 56, m = 98<br>\n",
    ">Output: 14"
   ]
  },
  {
   "cell_type": "code",
   "execution_count": 1,
   "id": "c572cdc1",
   "metadata": {},
   "outputs": [],
   "source": [
    "def gcd(n, m):\n",
    "    \"\"\"\n",
    "    Function to find the GCD of two integers without using built-in functions and recursion.\n",
    "    \n",
    "    Parameters:\n",
    "    n (int): The first integer.\n",
    "    m (int): The second integer.\n",
    "    \n",
    "    Returns:\n",
    "    int: The GCD of n and m.\n",
    "    \"\"\"\n",
    "    # Your code here\n",
    "    result = 1\n",
    "    counter = 1\n",
    "\n",
    "    if n == m:\n",
    "        return m\n",
    "\n",
    "    while counter <= min(m, n) // 2:\n",
    "        if (m % counter == 0) and (n % counter == 0):\n",
    "            result = counter\n",
    "\n",
    "        counter += 1\n",
    "\n",
    "    return result"
   ]
  },
  {
   "cell_type": "code",
   "execution_count": 2,
   "id": "cf313ac0",
   "metadata": {},
   "outputs": [
    {
     "data": {
      "text/plain": [
       "14"
      ]
     },
     "execution_count": 2,
     "metadata": {},
     "output_type": "execute_result"
    }
   ],
   "source": [
    "n = 56\n",
    "m = 98\n",
    "gcd(n, m)"
   ]
  },
  {
   "cell_type": "code",
   "execution_count": null,
   "id": "10fea823",
   "metadata": {},
   "outputs": [],
   "source": []
  }
 ],
 "metadata": {
  "kernelspec": {
   "display_name": "Python 3",
   "language": "python",
   "name": "python3"
  },
  "language_info": {
   "codemirror_mode": {
    "name": "ipython",
    "version": 3
   },
   "file_extension": ".py",
   "mimetype": "text/x-python",
   "name": "python",
   "nbconvert_exporter": "python",
   "pygments_lexer": "ipython3",
   "version": "3.12.0"
  }
 },
 "nbformat": 4,
 "nbformat_minor": 5
}
