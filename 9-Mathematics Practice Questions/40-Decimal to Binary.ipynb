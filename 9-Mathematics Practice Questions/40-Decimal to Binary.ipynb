{
 "cells": [
  {
   "cell_type": "markdown",
   "id": "b8eaa105",
   "metadata": {},
   "source": [
    "**Problem Description:**\n",
    "\n",
    "You are given an integer `n`. Your task is to return its binary representation as a string. Do not use any built-in functions for conversion.\n",
    "\n",
    "<br>\n",
    "\n",
    "**Input:**\n",
    "- A single integer `n`, where `-10^9 <= n <= 10^9`.\n",
    "\n",
    "<br>\n",
    "\n",
    "**Output:**\n",
    "- A string representing the binary representation of `n`.\n",
    "\n",
    "<br>\n",
    "\n",
    "**Example:**\n",
    ">Input: n = 5<br>\n",
    ">Output: \"101\"<br>\n",
    "><br>\n",
    ">Input: n = -5<br>\n",
    ">Output: \"-101\"\n"
   ]
  },
  {
   "cell_type": "code",
   "execution_count": 1,
   "id": "f363abb3",
   "metadata": {},
   "outputs": [],
   "source": [
    "def int_to_binary(n):\n",
    "    \"\"\"\n",
    "    Function to convert an integer to its binary representation.\n",
    "    \n",
    "    Parameters:\n",
    "    n (int): The integer to convert.\n",
    "    \n",
    "    Returns:\n",
    "    str: The binary representation of the integer.\n",
    "    \"\"\"\n",
    "    # Your code here\n",
    "    result = ''\n",
    "    num = n\n",
    "    \n",
    "    if num < 0:\n",
    "        num = -(num)\n",
    "    \n",
    "    if num == 0:\n",
    "        return '0'\n",
    "        \n",
    "    while num > 0:\n",
    "        remainder = num % 2\n",
    "        result = str(remainder) + result\n",
    "        num //= 2\n",
    "        \n",
    "    if n < 0:\n",
    "        result = '-' + result\n",
    "    \n",
    "    return result"
   ]
  },
  {
   "cell_type": "code",
   "execution_count": 2,
   "id": "44fa451e",
   "metadata": {},
   "outputs": [
    {
     "data": {
      "text/plain": [
       "'101'"
      ]
     },
     "execution_count": 2,
     "metadata": {},
     "output_type": "execute_result"
    }
   ],
   "source": [
    "n = 5\n",
    "int_to_binary(n)"
   ]
  },
  {
   "cell_type": "code",
   "execution_count": null,
   "id": "90b2acfe",
   "metadata": {},
   "outputs": [],
   "source": []
  }
 ],
 "metadata": {
  "kernelspec": {
   "display_name": "Python 3",
   "language": "python",
   "name": "python3"
  },
  "language_info": {
   "codemirror_mode": {
    "name": "ipython",
    "version": 3
   },
   "file_extension": ".py",
   "mimetype": "text/x-python",
   "name": "python",
   "nbconvert_exporter": "python",
   "pygments_lexer": "ipython3",
   "version": "3.12.0"
  }
 },
 "nbformat": 4,
 "nbformat_minor": 5
}
