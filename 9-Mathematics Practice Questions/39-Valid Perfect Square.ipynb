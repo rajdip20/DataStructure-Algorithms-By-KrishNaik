{
 "cells": [
  {
   "cell_type": "markdown",
   "id": "d89c5588",
   "metadata": {},
   "source": [
    "**Problem Description:**\n",
    "\n",
    "You are given a positive integer `num`. Your task is to check whether `num` is a perfect square or not. A perfect square is an integer that is the square of an integer (e.g., 1, 4, 9, 16, ...). Return `True` if `num` is a perfect square, and `False` otherwise.\n",
    "\n",
    "<br>\n",
    "\n",
    "**Input:**\n",
    "- A single positive integer `num` where `1 <= num <= 10^9`.\n",
    "\n",
    "<br>\n",
    "\n",
    "**Output:**\n",
    "- Return `True` if `num` is a perfect square, otherwise return `False`.\n",
    "\n",
    "<br>\n",
    "\n",
    "**Example:**\n",
    ">Input: num = 16<br>\n",
    ">Output: True<br>\n",
    "><br>\n",
    ">Input: num = 14<br>\n",
    ">Output: False"
   ]
  },
  {
   "cell_type": "code",
   "execution_count": 1,
   "id": "626959d9",
   "metadata": {},
   "outputs": [],
   "source": [
    "def is_perfect_square(num):\n",
    "    \"\"\"\n",
    "    Function to check if a number is a perfect square.\n",
    "    \n",
    "    Parameters:\n",
    "    num (int): The number to check.\n",
    "    \n",
    "    Returns:\n",
    "    bool: True if num is a perfect square, False otherwise.\n",
    "    \"\"\"\n",
    "    # Your code here\n",
    "    n = num // 2\n",
    "    \n",
    "    if num == 1:\n",
    "        return True\n",
    "    \n",
    "    for i in range(n):\n",
    "        if i * i == num:\n",
    "            return True\n",
    "            \n",
    "    return False\n"
   ]
  },
  {
   "cell_type": "code",
   "execution_count": 2,
   "id": "31c301a6",
   "metadata": {},
   "outputs": [
    {
     "data": {
      "text/plain": [
       "True"
      ]
     },
     "execution_count": 2,
     "metadata": {},
     "output_type": "execute_result"
    }
   ],
   "source": [
    "num = 16\n",
    "is_perfect_square(num)"
   ]
  },
  {
   "cell_type": "code",
   "execution_count": null,
   "id": "168af055",
   "metadata": {},
   "outputs": [],
   "source": []
  }
 ],
 "metadata": {
  "kernelspec": {
   "display_name": "Python 3",
   "language": "python",
   "name": "python3"
  },
  "language_info": {
   "codemirror_mode": {
    "name": "ipython",
    "version": 3
   },
   "file_extension": ".py",
   "mimetype": "text/x-python",
   "name": "python",
   "nbconvert_exporter": "python",
   "pygments_lexer": "ipython3",
   "version": "3.12.0"
  }
 },
 "nbformat": 4,
 "nbformat_minor": 5
}
