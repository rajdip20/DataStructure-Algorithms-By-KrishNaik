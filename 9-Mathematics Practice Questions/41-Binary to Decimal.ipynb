{
 "cells": [
  {
   "cell_type": "markdown",
   "id": "246013c7",
   "metadata": {},
   "source": [
    "**Problem Description:**\n",
    "\n",
    "You are given a string `binary_str` representing a binary number. Your task is to convert this binary string to its corresponding decimal integer. Do not use any built-in functions for conversion.\n",
    "\n",
    "<br>\n",
    "\n",
    "**Input:**\n",
    "- A string `binary_str`, consisting of characters `'0'` and `'1'`, where the length of the string is between `1` and `30` (inclusive).\n",
    "\n",
    "<br>\n",
    "\n",
    "**Output:**\n",
    "- An integer representing the decimal value of the binary string\n",
    "\n",
    "<br>\n",
    "\n",
    "**Example:**\n",
    ">Input: binary_str = \"101\"<br>\n",
    ">Output: 5<br>\n",
    "><br>\n",
    ">Input: binary_str = \"1101\"<br>\n",
    ">Output: 13"
   ]
  },
  {
   "cell_type": "code",
   "execution_count": 1,
   "id": "985d3e17",
   "metadata": {},
   "outputs": [],
   "source": [
    "def binary_to_decimal(binary_str):\n",
    "    \"\"\"\n",
    "    Function to convert a binary string to its decimal integer representation.\n",
    "    \n",
    "    Parameters:\n",
    "    binary_str (str): The binary string to convert.\n",
    "    \n",
    "    Returns:\n",
    "    int: The decimal representation of the binary string.\n",
    "    \"\"\"\n",
    "    # Your code here\n",
    "    var = len(binary_str) - 1\n",
    "    result = 0\n",
    "\n",
    "    for i in range(len(binary_str)):\n",
    "        result += int(binary_str[i]) * (2 ** var)\n",
    "        var -= 1\n",
    "\n",
    "    return result"
   ]
  },
  {
   "cell_type": "code",
   "execution_count": 2,
   "id": "63e47c2b",
   "metadata": {},
   "outputs": [
    {
     "data": {
      "text/plain": [
       "13"
      ]
     },
     "execution_count": 2,
     "metadata": {},
     "output_type": "execute_result"
    }
   ],
   "source": [
    "binary_str = \"1101\"\n",
    "binary_to_decimal(binary_str)"
   ]
  },
  {
   "cell_type": "code",
   "execution_count": null,
   "id": "7e7cd79b",
   "metadata": {},
   "outputs": [],
   "source": []
  }
 ],
 "metadata": {
  "kernelspec": {
   "display_name": "Python 3",
   "language": "python",
   "name": "python3"
  },
  "language_info": {
   "codemirror_mode": {
    "name": "ipython",
    "version": 3
   },
   "file_extension": ".py",
   "mimetype": "text/x-python",
   "name": "python",
   "nbconvert_exporter": "python",
   "pygments_lexer": "ipython3",
   "version": "3.12.0"
  }
 },
 "nbformat": 4,
 "nbformat_minor": 5
}
