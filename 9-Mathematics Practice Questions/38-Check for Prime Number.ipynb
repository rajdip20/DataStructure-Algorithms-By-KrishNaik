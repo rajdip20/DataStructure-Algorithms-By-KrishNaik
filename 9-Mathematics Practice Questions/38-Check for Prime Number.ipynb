{
 "cells": [
  {
   "cell_type": "markdown",
   "id": "179f7d4d",
   "metadata": {},
   "source": [
    "**Problem Description:**\n",
    "\n",
    "You are given an integer `n`. Your task is to check whether the number is prime or not. A prime number is a number greater than 1 that has no divisors other than 1 and itself. Return `True` if the number is prime, and `False` otherwise.\n",
    "\n",
    "<br>\n",
    "\n",
    "**Input:**\n",
    "- A single integer `n` where `1 <= n <= 10^6`.\n",
    "\n",
    "<br>\n",
    "\n",
    "**Output:**\n",
    "- Return `True` if `n` is a prime number, otherwise return `False`.\n",
    "\n",
    "<br>\n",
    "\n",
    "**Example:**\n",
    ">Input: n = 5<br>\n",
    ">Output: True<br>\n",
    "><br>\n",
    ">Input: n = 4<br>\n",
    ">Output: False"
   ]
  },
  {
   "cell_type": "code",
   "execution_count": 1,
   "id": "f6859917",
   "metadata": {},
   "outputs": [],
   "source": [
    "def is_prime(n):\n",
    "    \"\"\"\n",
    "    Function to check if a number is prime.\n",
    "    \n",
    "    Parameters:\n",
    "    n (int): The number to check.\n",
    "    \n",
    "    Returns:\n",
    "    bool: True if n is prime, False otherwise.\n",
    "    \"\"\"\n",
    "    # Your code here\n",
    "    for i in range(2, n):\n",
    "        if n % i == 0:\n",
    "            return False\n",
    "            \n",
    "    return True"
   ]
  },
  {
   "cell_type": "code",
   "execution_count": 2,
   "id": "44b5bbf8",
   "metadata": {},
   "outputs": [
    {
     "data": {
      "text/plain": [
       "False"
      ]
     },
     "execution_count": 2,
     "metadata": {},
     "output_type": "execute_result"
    }
   ],
   "source": [
    "n = 4\n",
    "is_prime(n)"
   ]
  },
  {
   "cell_type": "code",
   "execution_count": null,
   "id": "d0e3e976",
   "metadata": {},
   "outputs": [],
   "source": []
  }
 ],
 "metadata": {
  "kernelspec": {
   "display_name": "Python 3",
   "language": "python",
   "name": "python3"
  },
  "language_info": {
   "codemirror_mode": {
    "name": "ipython",
    "version": 3
   },
   "file_extension": ".py",
   "mimetype": "text/x-python",
   "name": "python",
   "nbconvert_exporter": "python",
   "pygments_lexer": "ipython3",
   "version": "3.12.0"
  }
 },
 "nbformat": 4,
 "nbformat_minor": 5
}
