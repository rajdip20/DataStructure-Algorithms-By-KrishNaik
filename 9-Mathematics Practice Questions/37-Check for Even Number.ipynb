{
 "cells": [
  {
   "cell_type": "markdown",
   "id": "11770728",
   "metadata": {},
   "source": [
    "**Problem Description:**\n",
    "\n",
    "You are given an integer `n`. Your task is to check whether the number is even or not. Return `True` if the number is even, and `False` otherwise.\n",
    "\n",
    "<br>\n",
    "\n",
    "**Input:**\n",
    "- A single integer `n` where `-10^9 <= n <= 10^9`.\n",
    "\n",
    "<br>\n",
    "\n",
    "**Output:**\n",
    "- Return `True` if `n` is an even number, otherwise return `False`.\n",
    "\n",
    "<br>\n",
    "\n",
    "**Example:**\n",
    ">Input: n = 4<br>\n",
    ">Output: True<br>\n",
    "><br>\n",
    ">Input: n = 7<br>\n",
    ">Output: False"
   ]
  },
  {
   "cell_type": "code",
   "execution_count": 1,
   "id": "51f4bb03",
   "metadata": {},
   "outputs": [],
   "source": [
    "def is_even(n):\n",
    "    \"\"\"\n",
    "    Function to check if a number is even.\n",
    "    \n",
    "    Parameters:\n",
    "    n (int): The number to check.\n",
    "    \n",
    "    Returns:\n",
    "    bool: True if n is even, False otherwise.\n",
    "    \"\"\"\n",
    "    # Your code here\n",
    "    if n % 2 == 0:\n",
    "        return True\n",
    "    else:\n",
    "        return False"
   ]
  },
  {
   "cell_type": "code",
   "execution_count": 2,
   "id": "abb6b0c1",
   "metadata": {},
   "outputs": [
    {
     "data": {
      "text/plain": [
       "False"
      ]
     },
     "execution_count": 2,
     "metadata": {},
     "output_type": "execute_result"
    }
   ],
   "source": [
    "n = 7\n",
    "is_even(n)"
   ]
  },
  {
   "cell_type": "code",
   "execution_count": null,
   "id": "b1902353",
   "metadata": {},
   "outputs": [],
   "source": []
  }
 ],
 "metadata": {
  "kernelspec": {
   "display_name": "Python 3",
   "language": "python",
   "name": "python3"
  },
  "language_info": {
   "codemirror_mode": {
    "name": "ipython",
    "version": 3
   },
   "file_extension": ".py",
   "mimetype": "text/x-python",
   "name": "python",
   "nbconvert_exporter": "python",
   "pygments_lexer": "ipython3",
   "version": "3.12.0"
  }
 },
 "nbformat": 4,
 "nbformat_minor": 5
}
