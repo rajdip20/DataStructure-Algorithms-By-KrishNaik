{
 "cells": [
  {
   "cell_type": "markdown",
   "id": "8fb552b0",
   "metadata": {},
   "source": [
    "**Problem Description:**\n",
    "\n",
    "You are given an integer `n`. Your task is to calculate and return the sum of the first `n` even natural numbers. The even natural numbers are: 2, 4, 6, 8, ...\n",
    "\n",
    "<br>\n",
    "\n",
    "**Input:**\n",
    "- A single integer `n` where `1 <= n <= 10^4`.\n",
    "\n",
    "<br>\n",
    "\n",
    "**Output:**\n",
    "- Return the sum of the first `n` even natural numbers.\n",
    "\n",
    "<br>\n",
    "\n",
    "**Example:**\n",
    ">Input: n = 3<br>\n",
    ">Output: 12  &emsp;# (2 + 4 + 6)<br>\n",
    "><br>\n",
    ">Input: n = 5<br>\n",
    ">Output: 30  &emsp;# (2 + 4 + 6 + 8 + 10)"
   ]
  },
  {
   "cell_type": "code",
   "execution_count": null,
   "id": "9e898a5e",
   "metadata": {},
   "outputs": [],
   "source": [
    "def sum_of_even_numbers(n):\n",
    "    \"\"\"\n",
    "    Function to return the sum of the first n even natural numbers.\n",
    "    \n",
    "    Parameters:\n",
    "    n (int): The number of even numbers to sum.\n",
    "    \n",
    "    Returns:\n",
    "    int: The sum of the first n even natural numbers.\n",
    "    \"\"\"\n",
    "    # Your code here\n",
    "    result = 0\n",
    "    counter = 2\n",
    "    \n",
    "    for i in range(n):\n",
    "        result += counter\n",
    "        counter += 2\n",
    "        \n",
    "    return result"
   ]
  },
  {
   "cell_type": "code",
   "execution_count": 2,
   "id": "1d987e52",
   "metadata": {},
   "outputs": [
    {
     "data": {
      "text/plain": [
       "30"
      ]
     },
     "execution_count": 2,
     "metadata": {},
     "output_type": "execute_result"
    }
   ],
   "source": [
    "n = 5\n",
    "sum_of_even_numbers(n)"
   ]
  },
  {
   "cell_type": "code",
   "execution_count": null,
   "id": "7ceea937",
   "metadata": {},
   "outputs": [],
   "source": []
  }
 ],
 "metadata": {
  "kernelspec": {
   "display_name": "Python 3",
   "language": "python",
   "name": "python3"
  },
  "language_info": {
   "codemirror_mode": {
    "name": "ipython",
    "version": 3
   },
   "file_extension": ".py",
   "mimetype": "text/x-python",
   "name": "python",
   "nbconvert_exporter": "python",
   "pygments_lexer": "ipython3",
   "version": "3.12.0"
  }
 },
 "nbformat": 4,
 "nbformat_minor": 5
}
