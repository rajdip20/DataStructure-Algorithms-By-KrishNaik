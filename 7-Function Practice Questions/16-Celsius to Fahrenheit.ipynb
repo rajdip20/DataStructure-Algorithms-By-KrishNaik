{
 "cells": [
  {
   "cell_type": "markdown",
   "id": "5f5490f4",
   "metadata": {},
   "source": [
    "**Problem Description:**\n",
    "\n",
    "You are given a temperature in Celsius. Your task is to convert it to Fahrenheit and return the result.\n",
    "\n",
    "Formula:\n",
    "\n",
    "To convert Celsius to Fahrenheit, use the formula:\n",
    "\n",
    "`F = (9/5 * C) + 32`\n",
    "\n",
    "Where `F` is the temperature in Fahrenheit and `C` is the temperature in Celsius.\n",
    "\n",
    "<br>\n",
    "\n",
    "**Input:**\n",
    "- A floating-point number `C` representing the temperature in Celsius.\n",
    "\n",
    "<br>\n",
    "\n",
    "**Output:**\n",
    "- A floating-point number representing the temperature in Fahrenheit.\n",
    "\n",
    "<br>\n",
    "\n",
    "**Example:**<br>\n",
    ">Input: C = 25<br>\n",
    ">Output: 77.0\n",
    ">\n",
    ">Input: C = 0<br>\n",
    ">Output: 32.0"
   ]
  },
  {
   "cell_type": "code",
   "execution_count": 1,
   "id": "b3312396",
   "metadata": {},
   "outputs": [],
   "source": [
    "def celsius_to_fahrenheit(C):\n",
    "    \"\"\"\n",
    "    Function to convert temperature from Celsius to Fahrenheit.\n",
    "    \n",
    "    Parameters:\n",
    "    C (float): The temperature in Celsius.\n",
    "    \n",
    "    Returns:\n",
    "    float: The temperature in Fahrenheit.\n",
    "    \"\"\"\n",
    "    # Your code here\n",
    "    F = (9/5 * C) + 32\n",
    "\n",
    "    return F"
   ]
  },
  {
   "cell_type": "code",
   "execution_count": 2,
   "id": "3b5a8af5",
   "metadata": {},
   "outputs": [
    {
     "data": {
      "text/plain": [
       "77.0"
      ]
     },
     "execution_count": 2,
     "metadata": {},
     "output_type": "execute_result"
    }
   ],
   "source": [
    "celsius_to_fahrenheit(25)"
   ]
  },
  {
   "cell_type": "code",
   "execution_count": null,
   "id": "94812b4a",
   "metadata": {},
   "outputs": [],
   "source": []
  }
 ],
 "metadata": {
  "kernelspec": {
   "display_name": "Python 3",
   "language": "python",
   "name": "python3"
  },
  "language_info": {
   "codemirror_mode": {
    "name": "ipython",
    "version": 3
   },
   "file_extension": ".py",
   "mimetype": "text/x-python",
   "name": "python",
   "nbconvert_exporter": "python",
   "pygments_lexer": "ipython3",
   "version": "3.12.0"
  }
 },
 "nbformat": 4,
 "nbformat_minor": 5
}
