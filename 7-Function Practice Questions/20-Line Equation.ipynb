{
 "cells": [
  {
   "cell_type": "markdown",
   "id": "dfa55374",
   "metadata": {},
   "source": [
    "**Problem Description:**\n",
    "\n",
    "You are given the slope `m` and the y-intercept `b` of a line, along with a value `x`. Your task is to calculate and return the value of `y` using the equation of a line in slope-intercept form:\n",
    "\n",
    "`y=mx+b`\n",
    "\n",
    "<br>\n",
    "\n",
    "**Input:**\n",
    "- Three floating-point numbers: `slope`, `intercept`, and `x`.\n",
    "\n",
    "<br>\n",
    "\n",
    "**Output:**\n",
    "- A floating-point number representing the value of yyy corresponding to the given xxx.\n",
    "\n",
    "<br>\n",
    "\n",
    "**Example:**<br>\n",
    ">Input: slope = 2, intercept = 3, x = 4<br>\n",
    ">Output: 11.0\n",
    ">\n",
    ">Input: slope = 1.5, intercept = -2, x = 2<br>\n",
    ">Output: 1.0"
   ]
  },
  {
   "cell_type": "code",
   "execution_count": 1,
   "id": "bc6256c0",
   "metadata": {},
   "outputs": [],
   "source": [
    "def calculate_y(slope, intercept, x):\n",
    "    \"\"\"\n",
    "    Function to calculate the value of y using the slope-intercept form of a line.\n",
    "    \n",
    "    Parameters:\n",
    "    slope (float): The slope of the line.\n",
    "    intercept (float): The y-intercept of the line.\n",
    "    x (float): The value of x for which y needs to be calculated.\n",
    "    \n",
    "    Returns:\n",
    "    float: The calculated value of y.\n",
    "    \"\"\"\n",
    "    # Your code here\n",
    "    y = slope * x + intercept\n",
    "\n",
    "    return y"
   ]
  },
  {
   "cell_type": "code",
   "execution_count": 2,
   "id": "2de7807a",
   "metadata": {},
   "outputs": [
    {
     "data": {
      "text/plain": [
       "11"
      ]
     },
     "execution_count": 2,
     "metadata": {},
     "output_type": "execute_result"
    }
   ],
   "source": [
    "calculate_y(2, 3, 4)"
   ]
  },
  {
   "cell_type": "code",
   "execution_count": null,
   "id": "0beb7ace",
   "metadata": {},
   "outputs": [],
   "source": []
  }
 ],
 "metadata": {
  "kernelspec": {
   "display_name": "Python 3",
   "language": "python",
   "name": "python3"
  },
  "language_info": {
   "codemirror_mode": {
    "name": "ipython",
    "version": 3
   },
   "file_extension": ".py",
   "mimetype": "text/x-python",
   "name": "python",
   "nbconvert_exporter": "python",
   "pygments_lexer": "ipython3",
   "version": "3.12.0"
  }
 },
 "nbformat": 4,
 "nbformat_minor": 5
}
