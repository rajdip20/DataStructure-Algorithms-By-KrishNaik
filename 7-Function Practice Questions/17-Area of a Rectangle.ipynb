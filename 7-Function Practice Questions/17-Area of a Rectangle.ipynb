{
 "cells": [
  {
   "cell_type": "markdown",
   "id": "938393d8",
   "metadata": {},
   "source": [
    "**Problem Description:**\n",
    "\n",
    "You are given the length and breadth of a rectangle. Your task is to compute and return the area of the rectangle.\n",
    "\n",
    "Formula:\n",
    "\n",
    "To calculate the area of a rectangle:\n",
    "\n",
    "`Area=length×breadth`\n",
    "\n",
    "<br>\n",
    "\n",
    "**Input:**\n",
    "- Two floating-point numbers, `length` and `breadth`, representing the dimensions of the rectangle.\n",
    "\n",
    "<br>\n",
    "\n",
    "**Output:**\n",
    "- A floating-point number representing the area of the rectangle.\n",
    "\n",
    "<br>\n",
    "\n",
    "**Example:**<br>\n",
    ">Input: length = 5, breadth = 3<br>\n",
    ">Output: 15.0\n",
    ">\n",
    ">Input: length = 7.5, breadth = 2.4<br>\n",
    ">Output: 18.0"
   ]
  },
  {
   "cell_type": "code",
   "execution_count": 1,
   "id": "97be7ca3",
   "metadata": {},
   "outputs": [],
   "source": [
    "def area_of_rectangle(length, breadth):\n",
    "    \"\"\"\n",
    "    Function to calculate the area of a rectangle.\n",
    "    \n",
    "    Parameters:\n",
    "    length (float): The length of the rectangle.\n",
    "    breadth (float): The breadth of the rectangle.\n",
    "    \n",
    "    Returns:\n",
    "    float: The area of the rectangle.\n",
    "    \"\"\"\n",
    "    # Your code here\n",
    "    area = length * breadth\n",
    "\n",
    "    return area"
   ]
  },
  {
   "cell_type": "code",
   "execution_count": 2,
   "id": "952363e0",
   "metadata": {},
   "outputs": [
    {
     "data": {
      "text/plain": [
       "15"
      ]
     },
     "execution_count": 2,
     "metadata": {},
     "output_type": "execute_result"
    }
   ],
   "source": [
    "area_of_rectangle(5, 3)"
   ]
  },
  {
   "cell_type": "code",
   "execution_count": null,
   "id": "9beec03d",
   "metadata": {},
   "outputs": [],
   "source": []
  }
 ],
 "metadata": {
  "kernelspec": {
   "display_name": "Python 3",
   "language": "python",
   "name": "python3"
  },
  "language_info": {
   "codemirror_mode": {
    "name": "ipython",
    "version": 3
   },
   "file_extension": ".py",
   "mimetype": "text/x-python",
   "name": "python",
   "nbconvert_exporter": "python",
   "pygments_lexer": "ipython3",
   "version": "3.12.0"
  }
 },
 "nbformat": 4,
 "nbformat_minor": 5
}
