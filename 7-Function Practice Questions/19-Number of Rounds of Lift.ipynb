{
 "cells": [
  {
   "cell_type": "markdown",
   "id": "ad50841a",
   "metadata": {},
   "source": [
    "**Problem Description:**\n",
    "\n",
    "You are given `n`, the total number of people, and `capacity`, the maximum number of people the lift can carry at a time. All people want to go from the ground floor to the top floor. Your task is to calculate the number of rounds the lift has to make to transport all the people to the top floor.\n",
    "\n",
    "<br>\n",
    "\n",
    "**Input:**\n",
    "- Two integers, `n` and `capacity`, where `n` is the total number of people, and `capacity` is the maximum number of people the lift can carry in one round.\n",
    "\n",
    "<br>\n",
    "\n",
    "**Output:**\n",
    "- An integer representing the number of rounds the lift needs to cover to transport all people to the top floor.\n",
    "\n",
    "<br>\n",
    "\n",
    "**Example:**<br>\n",
    ">Input: n = 10, capacity = 3<br>\n",
    ">Output: 4\n",
    ">\n",
    ">Input: n = 7, capacity = 4<br>\n",
    ">Output: 2"
   ]
  },
  {
   "cell_type": "code",
   "execution_count": 1,
   "id": "2463962a",
   "metadata": {},
   "outputs": [],
   "source": [
    "def calculate_lift_rounds(n, capacity):\n",
    "    \"\"\"\n",
    "    Function to calculate the number of rounds the lift needs to cover.\n",
    "    \n",
    "    Parameters:\n",
    "    n (int): Total number of people.\n",
    "    capacity (int): Maximum number of people the lift can carry in one round.\n",
    "    \n",
    "    Returns:\n",
    "    int: The number of rounds required to transport all people to the top floor.\n",
    "    \"\"\"\n",
    "    # Your code here\n",
    "    full_round = n // capacity\n",
    "\n",
    "    if n % capacity != 0:\n",
    "        return full_round + 1\n",
    "    else:\n",
    "        return full_round"
   ]
  },
  {
   "cell_type": "code",
   "execution_count": 2,
   "id": "1f08289e",
   "metadata": {},
   "outputs": [
    {
     "data": {
      "text/plain": [
       "4"
      ]
     },
     "execution_count": 2,
     "metadata": {},
     "output_type": "execute_result"
    }
   ],
   "source": [
    "calculate_lift_rounds(10, 3)"
   ]
  },
  {
   "cell_type": "code",
   "execution_count": null,
   "id": "3a5383ae",
   "metadata": {},
   "outputs": [],
   "source": []
  }
 ],
 "metadata": {
  "kernelspec": {
   "display_name": "Python 3",
   "language": "python",
   "name": "python3"
  },
  "language_info": {
   "codemirror_mode": {
    "name": "ipython",
    "version": 3
   },
   "file_extension": ".py",
   "mimetype": "text/x-python",
   "name": "python",
   "nbconvert_exporter": "python",
   "pygments_lexer": "ipython3",
   "version": "3.12.0"
  }
 },
 "nbformat": 4,
 "nbformat_minor": 5
}
