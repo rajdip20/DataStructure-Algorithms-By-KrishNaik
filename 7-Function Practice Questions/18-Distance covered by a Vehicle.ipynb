{
 "cells": [
  {
   "cell_type": "markdown",
   "id": "68b0bcbf",
   "metadata": {},
   "source": [
    "**Problem Description:**\n",
    "\n",
    "You are given the speed of a vehicle and the time it has traveled. Your task is to compute and return the distance traveled by the vehicle.\n",
    "\n",
    "Formula:\n",
    "\n",
    "To calculate the distance traveled by a vehicle:\n",
    "\n",
    "`Distance=Speed×Time`\n",
    "\n",
    "<br>\n",
    "\n",
    "**Input:**\n",
    "- Two floating-point numbers, `speed` and `time`, representing the speed of the vehicle and the time it has been traveling.\n",
    "\n",
    "<br>\n",
    "\n",
    "**Output:**\n",
    "- A floating-point number representing the distance traveled.\n",
    "\n",
    "<br>\n",
    "\n",
    "**Example:**<br>\n",
    ">Input: speed = 60, time = 2<br>\n",
    ">Output: 120.0\n",
    ">\n",
    ">Input: speed = 50.5, time = 1.5<br>\n",
    ">Output: 75.75"
   ]
  },
  {
   "cell_type": "code",
   "execution_count": 1,
   "id": "976775e0",
   "metadata": {},
   "outputs": [],
   "source": [
    "def calculate_distance(speed, time):\n",
    "    \"\"\"\n",
    "    Function to calculate the distance traveled by a vehicle.\n",
    "    \n",
    "    Parameters:\n",
    "    speed (float): The speed of the vehicle.\n",
    "    time (float): The time the vehicle has traveled.\n",
    "    \n",
    "    Returns:\n",
    "    float: The distance traveled by the vehicle.\n",
    "    \"\"\"\n",
    "    # Your code here\n",
    "    distance = speed * time\n",
    "\n",
    "    return distance"
   ]
  },
  {
   "cell_type": "code",
   "execution_count": 2,
   "id": "727e4293",
   "metadata": {},
   "outputs": [
    {
     "data": {
      "text/plain": [
       "75.75"
      ]
     },
     "execution_count": 2,
     "metadata": {},
     "output_type": "execute_result"
    }
   ],
   "source": [
    "calculate_distance(50.5, 1.5)"
   ]
  },
  {
   "cell_type": "code",
   "execution_count": null,
   "id": "45a9d895",
   "metadata": {},
   "outputs": [],
   "source": []
  }
 ],
 "metadata": {
  "kernelspec": {
   "display_name": "Python 3",
   "language": "python",
   "name": "python3"
  },
  "language_info": {
   "codemirror_mode": {
    "name": "ipython",
    "version": 3
   },
   "file_extension": ".py",
   "mimetype": "text/x-python",
   "name": "python",
   "nbconvert_exporter": "python",
   "pygments_lexer": "ipython3",
   "version": "3.12.0"
  }
 },
 "nbformat": 4,
 "nbformat_minor": 5
}
