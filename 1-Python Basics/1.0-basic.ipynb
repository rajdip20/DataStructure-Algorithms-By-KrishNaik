{
 "cells": [
  {
   "cell_type": "markdown",
   "id": "f8799593",
   "metadata": {},
   "source": [
    "## Syntax and Semantics in Python\n",
    "\n",
    "Video Outline:\n",
    "- Single line Comments and multiline comments\n",
    "- Definition of Syntax and Semantics\n",
    "- Basic Syntax Rules in Python\n",
    "- Understanding Semantics in Python\n",
    "- Common Syntax Errors and How to Avoid Them\n",
    "- Practical Code Examples"
   ]
  },
  {
   "cell_type": "markdown",
   "id": "9733adfe",
   "metadata": {},
   "source": [
    "Syntax refers to the set of rules that define the combination of symbols that are considered to be correctly structured programs in a language. In simpler terms, syntax is about the correct arrangement of words and symbols in a code.\n",
    "\n",
    "Semantics refers to the meaning or the interpretations of the symbols, characters, and commands in a language. It is about what the code in supposed to do when it runs."
   ]
  },
  {
   "cell_type": "code",
   "execution_count": 1,
   "id": "64ba90a3",
   "metadata": {},
   "outputs": [
    {
     "name": "stdout",
     "output_type": "stream",
     "text": [
      "Hello World\n"
     ]
    }
   ],
   "source": [
    "## This is single line Comment\n",
    "\n",
    "'''\n",
    "This is a example of multiline comments\n",
    "Welcome to the\n",
    "python course\n",
    "'''\n",
    "\n",
    "print(\"Hello World\")"
   ]
  },
  {
   "cell_type": "code",
   "execution_count": 2,
   "id": "5c9b4f62",
   "metadata": {},
   "outputs": [
    {
     "name": "stdout",
     "output_type": "stream",
     "text": [
      "Rajdip\n",
      "Das\n"
     ]
    }
   ],
   "source": [
    "## Basic Syntax Rules In Python\n",
    "## Case sensitivity\n",
    "\n",
    "name = \"Rajdip\"\n",
    "Name = \"Das\"\n",
    "\n",
    "print(name)\n",
    "print(Name)"
   ]
  },
  {
   "cell_type": "markdown",
   "id": "e24e45fa",
   "metadata": {},
   "source": [
    "### Indentation\n",
    "\n",
    "Indentation in Python is used to define the structure and hierarchy of the code. Unlike many other programming languages that use braces {} to delimit blocks of code. Python uses indentation to determine the grouping of statements. This means that all the statements within a block must be indented at the same level."
   ]
  },
  {
   "cell_type": "code",
   "execution_count": 3,
   "id": "28e1e7a3",
   "metadata": {},
   "outputs": [
    {
     "name": "stdout",
     "output_type": "stream",
     "text": [
      "23\n",
      "23\n"
     ]
    }
   ],
   "source": [
    "## Indentation\n",
    "## Python uses indentation to define blocks of code. Consistent use of spaces (commonly 4) or a tab is required.\n",
    "\n",
    "age = 23\n",
    "if age > 20:\n",
    "    print(age)\n",
    "\n",
    "print(age)"
   ]
  },
  {
   "cell_type": "code",
   "execution_count": 4,
   "id": "0ad391ca",
   "metadata": {},
   "outputs": [
    {
     "name": "stdout",
     "output_type": "stream",
     "text": [
      "43\n"
     ]
    }
   ],
   "source": [
    "## Line Continuation\n",
    "## Use a backslash (\\) to continue a statement to the next line\n",
    "\n",
    "total = 1 + 2 + 3 + 4 + 5 + 6 + 7 +\\\n",
    "4 + 5 + 6\n",
    "\n",
    "print(total)"
   ]
  },
  {
   "cell_type": "code",
   "execution_count": 5,
   "id": "c51444d3",
   "metadata": {},
   "outputs": [
    {
     "name": "stdout",
     "output_type": "stream",
     "text": [
      "15\n"
     ]
    }
   ],
   "source": [
    "## Multiple statements on a single line\n",
    "\n",
    "x = 5; y = 10; z = x + y\n",
    "print(z)"
   ]
  },
  {
   "cell_type": "code",
   "execution_count": 6,
   "id": "e839d848",
   "metadata": {},
   "outputs": [],
   "source": [
    "## Understanding Semantics In Python\n",
    "# Variable assignment\n",
    "\n",
    "age  = 23   ## age is an integer\n",
    "name = \"Rajdip\" ## name is a string"
   ]
  },
  {
   "cell_type": "code",
   "execution_count": 7,
   "id": "4d203ba9",
   "metadata": {},
   "outputs": [
    {
     "data": {
      "text/plain": [
       "int"
      ]
     },
     "execution_count": 7,
     "metadata": {},
     "output_type": "execute_result"
    }
   ],
   "source": [
    "type(age)"
   ]
  },
  {
   "cell_type": "code",
   "execution_count": 8,
   "id": "8c324ebd",
   "metadata": {},
   "outputs": [
    {
     "data": {
      "text/plain": [
       "str"
      ]
     },
     "execution_count": 8,
     "metadata": {},
     "output_type": "execute_result"
    }
   ],
   "source": [
    "type(name)"
   ]
  },
  {
   "cell_type": "code",
   "execution_count": 9,
   "id": "969fa0f3",
   "metadata": {},
   "outputs": [
    {
     "name": "stdout",
     "output_type": "stream",
     "text": [
      "<class 'int'>\n",
      "<class 'str'>\n"
     ]
    }
   ],
   "source": [
    "## Type Interference\n",
    "\n",
    "variable = 10\n",
    "print(type(variable))\n",
    "\n",
    "variable = \"Rajdip\"\n",
    "print(type(variable))"
   ]
  },
  {
   "cell_type": "code",
   "execution_count": 10,
   "id": "c8682765",
   "metadata": {},
   "outputs": [
    {
     "name": "stdout",
     "output_type": "stream",
     "text": [
      "23\n"
     ]
    }
   ],
   "source": [
    "age = 23\n",
    "\n",
    "if age > 20:\n",
    "    print(age)"
   ]
  },
  {
   "cell_type": "code",
   "execution_count": 11,
   "id": "9a936509",
   "metadata": {},
   "outputs": [
    {
     "ename": "NameError",
     "evalue": "name 'b' is not defined",
     "output_type": "error",
     "traceback": [
      "\u001b[31m---------------------------------------------------------------------------\u001b[39m",
      "\u001b[31mNameError\u001b[39m                                 Traceback (most recent call last)",
      "\u001b[36mCell\u001b[39m\u001b[36m \u001b[39m\u001b[32mIn[11]\u001b[39m\u001b[32m, line 3\u001b[39m\n\u001b[32m      1\u001b[39m \u001b[38;5;66;03m## Name Error\u001b[39;00m\n\u001b[32m----> \u001b[39m\u001b[32m3\u001b[39m a = \u001b[43mb\u001b[49m\n",
      "\u001b[31mNameError\u001b[39m: name 'b' is not defined"
     ]
    }
   ],
   "source": [
    "## Name Error\n",
    "\n",
    "a = b"
   ]
  },
  {
   "cell_type": "code",
   "execution_count": 12,
   "id": "d1ad0883",
   "metadata": {},
   "outputs": [
    {
     "name": "stdout",
     "output_type": "stream",
     "text": [
      "Correct Indentation\n",
      "This will print\n",
      "Outside the if block\n"
     ]
    }
   ],
   "source": [
    "## Code example of indentation\n",
    "\n",
    "if True:\n",
    "    print(\"Correct Indentation\")\n",
    "    if False:\n",
    "        print(\"This out print\")\n",
    "    print(\"This will print\")\n",
    "print(\"Outside the if block\")"
   ]
  },
  {
   "cell_type": "code",
   "execution_count": null,
   "id": "ec6e41f5",
   "metadata": {},
   "outputs": [],
   "source": []
  }
 ],
 "metadata": {
  "kernelspec": {
   "display_name": "Python 3",
   "language": "python",
   "name": "python3"
  },
  "language_info": {
   "codemirror_mode": {
    "name": "ipython",
    "version": 3
   },
   "file_extension": ".py",
   "mimetype": "text/x-python",
   "name": "python",
   "nbconvert_exporter": "python",
   "pygments_lexer": "ipython3",
   "version": "3.12.0"
  }
 },
 "nbformat": 4,
 "nbformat_minor": 5
}
